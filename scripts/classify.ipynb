{
 "cells": [
  {
   "cell_type": "code",
   "execution_count": 1,
   "metadata": {
    "collapsed": true,
    "deletable": true,
    "editable": true
   },
   "outputs": [],
   "source": [
    "import numpy as np\n",
    "import pandas as pd\n",
    "import math\n",
    "from datetime import datetime\n",
    "import matplotlib.pyplot as plt\n",
    "from sklearn.decomposition import TruncatedSVD, PCA, SparsePCA, NMF, ProjectedGradientNMF, LatentDirichletAllocation\n",
    "from sklearn.mixture import GaussianMixture\n",
    "from scipy.sparse import csr_matrix\n",
    "from scipy.sparse.linalg import svds\n",
    "from sklearn.metrics import roc_curve, auc, accuracy_score, precision_score, recall_score, f1_score, mean_squared_error, r2_score\n",
    "import networkx as nx\n",
    "import itertools\n",
    "from sklearn.ensemble import RandomForestClassifier\n",
    "from sklearn.neighbors import KNeighborsClassifier\n",
    "from sklearn.naive_bayes import GaussianNB, MultinomialNB, BernoulliNB\n",
    "from sklearn.tree import DecisionTreeClassifier\n",
    "from sklearn.linear_model import LogisticRegression, LinearRegression, Ridge, Lasso, LassoLars\n",
    "from sklearn.cluster import KMeans\n",
    "import random\n",
    "from sklearn.svm import SVC\n"
   ]
  },
  {
   "cell_type": "markdown",
   "metadata": {
    "deletable": true,
    "editable": true
   },
   "source": [
    "### Load Case-Centered Data into Pandas DF"
   ]
  },
  {
   "cell_type": "code",
   "execution_count": 2,
   "metadata": {
    "collapsed": false,
    "deletable": true,
    "editable": true
   },
   "outputs": [],
   "source": [
    "trainX = pd.read_csv('../data/trainX_num_output.csv')\n",
    "trainY = pd.read_csv('../data/trainY.csv')['partyWinning']\n",
    "testX = pd.read_csv('../data/testX_num_output.csv')\n",
    "testY = pd.read_csv('../data/testY.csv')['partyWinning']"
   ]
  },
  {
   "cell_type": "markdown",
   "metadata": {
    "deletable": true,
    "editable": true
   },
   "source": [
    "### Feature Selection"
   ]
  },
  {
   "cell_type": "code",
   "execution_count": 3,
   "metadata": {
    "collapsed": false,
    "deletable": true,
    "editable": true
   },
   "outputs": [],
   "source": [
    "\"\"\" Get DataFrame of feature names using different types of feature selection. \"\"\"\n",
    "import pandas as pd\n",
    "from sklearn.feature_selection import SelectKBest, chi2, VarianceThreshold, RFE\n",
    "\n",
    "skb = SelectKBest(chi2, k=10)\n",
    "X_new = skb.fit_transform(trainX, trainY)"
   ]
  },
  {
   "cell_type": "code",
   "execution_count": 5,
   "metadata": {
    "collapsed": false,
    "deletable": true,
    "editable": true
   },
   "outputs": [
    {
     "data": {
      "text/plain": [
       "(8577, 10)"
      ]
     },
     "execution_count": 5,
     "metadata": {},
     "output_type": "execute_result"
    }
   ],
   "source": [
    "X_new.shape"
   ]
  },
  {
   "cell_type": "markdown",
   "metadata": {
    "deletable": true,
    "editable": true
   },
   "source": [
    "### Classify"
   ]
  },
  {
   "cell_type": "code",
   "execution_count": 10,
   "metadata": {
    "collapsed": false,
    "deletable": true,
    "editable": true
   },
   "outputs": [],
   "source": [
    "# testX[pd.DataFrame(X_new).columns]"
   ]
  },
  {
   "cell_type": "code",
   "execution_count": 13,
   "metadata": {
    "collapsed": false,
    "deletable": true,
    "editable": true
   },
   "outputs": [
    {
     "data": {
      "text/plain": [
       "LassoLars(alpha=0.2, copy_X=True, eps=2.2204460492503131e-16,\n",
       "     fit_intercept=True, fit_path=True, max_iter=500, normalize=True,\n",
       "     positive=False, precompute='auto', verbose=False)"
      ]
     },
     "execution_count": 13,
     "metadata": {},
     "output_type": "execute_result"
    }
   ],
   "source": [
    "rnb = RandomForestClassifier()\n",
    "rnb.fit(trainX, trainY)\n",
    "\n",
    "knn = KNeighborsClassifier(n_neighbors=3, algorithm='kd_tree')\n",
    "knn.fit(trainX, trainY)\n",
    "\n",
    "gnb = GaussianNB()\n",
    "gnb.fit(trainX, trainY)\n",
    "\n",
    "# mnb = MultinomialNB()\n",
    "# mnb.fit(trainX, trainY['partyWinning'])\n",
    "\n",
    "bnb = BernoulliNB()\n",
    "bnb.fit(trainX, trainY)\n",
    "\n",
    "dt = DecisionTreeClassifier()\n",
    "dt.fit(trainX, trainY)\n",
    "\n",
    "# svc = SVC(kernel='linear')\n",
    "# svc.fit(trainX, trainY)\n",
    "\n",
    "log_reg = LogisticRegression()\n",
    "log_reg.fit(trainX, trainY)\n",
    "\n",
    "log_reg_l1 = LogisticRegression(penalty='l1')\n",
    "log_reg_l1.fit(trainX, trainY)\n",
    "\n",
    "lr = LinearRegression()\n",
    "lr.fit(trainX, trainY)\n",
    "\n",
    "ridge = Ridge(alpha=0.5)\n",
    "ridge.fit(trainX, trainY)\n",
    "\n",
    "lasso = Lasso(alpha=0.1)\n",
    "lasso.fit(trainX, trainY)\n",
    "\n",
    "lasso_lars = LassoLars(alpha=.2)\n",
    "lasso_lars.fit(trainX, trainY)\n"
   ]
  },
  {
   "cell_type": "markdown",
   "metadata": {
    "deletable": true,
    "editable": true
   },
   "source": [
    "### with feature selection"
   ]
  },
  {
   "cell_type": "code",
   "execution_count": 12,
   "metadata": {
    "collapsed": false,
    "deletable": true,
    "editable": true
   },
   "outputs": [
    {
     "data": {
      "text/plain": [
       "LinearRegression(copy_X=True, fit_intercept=True, n_jobs=1, normalize=False)"
      ]
     },
     "execution_count": 12,
     "metadata": {},
     "output_type": "execute_result"
    }
   ],
   "source": [
    "rnb_fs = RandomForestClassifier()\n",
    "rnb_fs.fit(X_new, trainY)\n",
    "\n",
    "knn_fs = KNeighborsClassifier(n_neighbors=3, algorithm='kd_tree')\n",
    "knn_fs.fit(X_new, trainY)\n",
    "\n",
    "gnb_fs = GaussianNB()\n",
    "gnb_fs.fit(X_new, trainY)\n",
    "\n",
    "# mnb = MultinomialNB()\n",
    "# mnb.fit(trainX, trainY['partyWinning'])\n",
    "\n",
    "bnb_fs = BernoulliNB()\n",
    "bnb_fs.fit(X_new, trainY)\n",
    "\n",
    "dt_fs = DecisionTreeClassifier()\n",
    "dt_fs.fit(X_new, trainY)\n",
    "\n",
    "# svc = SVC(kernel='linear')\n",
    "# svc.fit(trainX, trainY)\n",
    "\n",
    "log_reg_fs = LogisticRegression()\n",
    "log_reg_fs.fit(X_new, trainY)\n",
    "\n",
    "log_reg_l1_fs = LogisticRegression(penalty='l1')\n",
    "log_reg_l1_fs.fit(X_new, trainY)\n",
    "\n",
    "lr_fs = LinearRegression()\n",
    "lr_fs.fit(X_new, trainY)"
   ]
  },
  {
   "cell_type": "code",
   "execution_count": 19,
   "metadata": {
    "collapsed": false,
    "deletable": true,
    "editable": true
   },
   "outputs": [
    {
     "data": {
      "text/plain": [
       "LassoLars(alpha=0.2, copy_X=True, eps=2.2204460492503131e-16,\n",
       "     fit_intercept=True, fit_path=True, max_iter=500, normalize=True,\n",
       "     positive=False, precompute='auto', verbose=False)"
      ]
     },
     "execution_count": 19,
     "metadata": {},
     "output_type": "execute_result"
    }
   ],
   "source": [
    "ridge_fs = Ridge(alpha=0.5)\n",
    "ridge_fs.fit(X_new, trainY)\n",
    "\n",
    "lasso_fs = Lasso(alpha=0.1)\n",
    "lasso_fs.fit(X_new, trainY)\n",
    "\n",
    "lasso_lars_fs = LassoLars(alpha=.2)\n",
    "lasso_lars_fs.fit(X_new, trainY)"
   ]
  },
  {
   "cell_type": "markdown",
   "metadata": {},
   "source": [
    "### results without feature selection"
   ]
  },
  {
   "cell_type": "code",
   "execution_count": 17,
   "metadata": {
    "collapsed": false
   },
   "outputs": [
    {
     "name": "stdout",
     "output_type": "stream",
     "text": [
      "RNB\n",
      "accuracy: 0.847222222222\n",
      "precision: 0.845985352538\n",
      "recall: 0.847222222222\n",
      "f1: 0.84642650463\n",
      "KNN\n",
      "accuracy: 0.513888888889\n",
      "precision: 0.503900112233\n",
      "recall: 0.513888888889\n",
      "f1: 0.508557554045\n",
      "GNB\n",
      "accuracy: 0.625\n",
      "precision: 0.635478670635\n",
      "recall: 0.625\n",
      "f1: 0.608994276988\n",
      "BNB\n",
      "accuracy: 0.638888888889\n",
      "precision: 0.433531746032\n",
      "recall: 0.638888888889\n",
      "f1: 0.516548463357\n",
      "DT\n",
      "accuracy: 0.729166666667\n",
      "precision: 0.725478778468\n",
      "recall: 0.729166666667\n",
      "f1: 0.726995273157\n"
     ]
    },
    {
     "name": "stderr",
     "output_type": "stream",
     "text": [
      "/Library/Frameworks/Python.framework/Versions/3.6/lib/python3.6/site-packages/sklearn/metrics/classification.py:1115: UndefinedMetricWarning: Recall is ill-defined and being set to 0.0 in labels with no true samples.\n",
      "  'recall', 'true', average, warn_for)\n",
      "/Library/Frameworks/Python.framework/Versions/3.6/lib/python3.6/site-packages/sklearn/metrics/classification.py:1115: UndefinedMetricWarning: F-score is ill-defined and being set to 0.0 in labels with no true samples.\n",
      "  'recall', 'true', average, warn_for)\n"
     ]
    }
   ],
   "source": [
    "y_pred = rnb.predict(testX)\n",
    "\n",
    "print(\"RNB\")\n",
    "print(\"accuracy: \" + str(accuracy_score(testY,y_pred)))\n",
    "print(\"precision: \" + str(precision_score(testY,y_pred, average='weighted')))\n",
    "print(\"recall: \" + str(recall_score(testY,y_pred, average='weighted')))\n",
    "print(\"f1: \" + str(f1_score(testY,y_pred, average='weighted')))\n",
    "\n",
    "y_pred = knn.predict(testX)\n",
    "\n",
    "print(\"KNN\")\n",
    "print(\"accuracy: \" + str(accuracy_score(testY,y_pred)))\n",
    "print(\"precision: \" + str(precision_score(testY,y_pred, average='weighted')))\n",
    "print(\"recall: \" + str(recall_score(testY,y_pred, average='weighted')))\n",
    "print(\"f1: \" + str(f1_score(testY,y_pred, average='weighted')))\n",
    "\n",
    "y_pred = gnb.predict(testX)\n",
    "\n",
    "print(\"GNB\")\n",
    "print(\"accuracy: \" + str(accuracy_score(testY,y_pred)))\n",
    "print(\"precision: \" + str(precision_score(testY,y_pred, average='weighted')))\n",
    "print(\"recall: \" + str(recall_score(testY,y_pred, average='weighted')))\n",
    "print(\"f1: \" + str(f1_score(testY,y_pred, average='weighted')))\n",
    "\n",
    "y_pred = bnb.predict(testX)\n",
    "\n",
    "print(\"BNB\")\n",
    "print(\"accuracy: \" + str(accuracy_score(testY,y_pred)))\n",
    "print(\"precision: \" + str(precision_score(testY,y_pred, average='weighted')))\n",
    "print(\"recall: \" + str(recall_score(testY,y_pred, average='weighted')))\n",
    "print(\"f1: \" + str(f1_score(testY,y_pred, average='weighted')))\n",
    "\n",
    "y_pred = dt.predict(testX)\n",
    "\n",
    "print(\"DT\")\n",
    "print(\"accuracy: \" + str(accuracy_score(testY,y_pred)))\n",
    "print(\"precision: \" + str(precision_score(testY,y_pred, average='weighted')))\n",
    "print(\"recall: \" + str(recall_score(testY,y_pred, average='weighted')))\n",
    "print(\"f1: \" + str(f1_score(testY,y_pred, average='weighted')))"
   ]
  },
  {
   "cell_type": "markdown",
   "metadata": {},
   "source": [
    "### results with feature selection"
   ]
  },
  {
   "cell_type": "code",
   "execution_count": 15,
   "metadata": {
    "collapsed": false,
    "deletable": true,
    "editable": true
   },
   "outputs": [
    {
     "name": "stdout",
     "output_type": "stream",
     "text": [
      "RNB\n",
      "accuracy: 0.548611111111\n",
      "precision: 0.576774084273\n",
      "recall: 0.548611111111\n",
      "f1: 0.558467365671\n",
      "KNN\n",
      "accuracy: 0.604166666667\n",
      "precision: 0.564583333333\n",
      "recall: 0.604166666667\n",
      "f1: 0.574558879939\n",
      "GNB\n",
      "accuracy: 0.597222222222\n",
      "precision: 0.563552188552\n",
      "recall: 0.597222222222\n",
      "f1: 0.573568684716\n",
      "BNB\n",
      "accuracy: 0.416666666667\n",
      "precision: 0.498189936894\n",
      "recall: 0.416666666667\n",
      "f1: 0.428803016508\n",
      "DT\n",
      "accuracy: 0.555555555556\n",
      "precision: 0.594710430531\n",
      "recall: 0.555555555556\n",
      "f1: 0.566782500223\n"
     ]
    },
    {
     "name": "stderr",
     "output_type": "stream",
     "text": [
      "/Library/Frameworks/Python.framework/Versions/3.6/lib/python3.6/site-packages/sklearn/metrics/classification.py:1115: UndefinedMetricWarning: Recall is ill-defined and being set to 0.0 in labels with no true samples.\n",
      "  'recall', 'true', average, warn_for)\n",
      "/Library/Frameworks/Python.framework/Versions/3.6/lib/python3.6/site-packages/sklearn/metrics/classification.py:1115: UndefinedMetricWarning: F-score is ill-defined and being set to 0.0 in labels with no true samples.\n",
      "  'recall', 'true', average, warn_for)\n"
     ]
    }
   ],
   "source": [
    "testX_fs = testX[pd.DataFrame(X_new).columns]\n",
    "\n",
    "y_pred = rnb_fs.predict(testX_fs)\n",
    "\n",
    "print(\"RNB\")\n",
    "print(\"accuracy: \" + str(accuracy_score(testY,y_pred)))\n",
    "print(\"precision: \" + str(precision_score(testY,y_pred, average='weighted')))\n",
    "print(\"recall: \" + str(recall_score(testY,y_pred, average='weighted')))\n",
    "print(\"f1: \" + str(f1_score(testY,y_pred, average='weighted')))\n",
    "\n",
    "y_pred = knn_fs.predict(testX_fs)\n",
    "\n",
    "print(\"KNN\")\n",
    "print(\"accuracy: \" + str(accuracy_score(testY,y_pred)))\n",
    "print(\"precision: \" + str(precision_score(testY,y_pred, average='weighted')))\n",
    "print(\"recall: \" + str(recall_score(testY,y_pred, average='weighted')))\n",
    "print(\"f1: \" + str(f1_score(testY,y_pred, average='weighted')))\n",
    "\n",
    "y_pred = gnb_fs.predict(testX_fs)\n",
    "\n",
    "print(\"GNB\")\n",
    "print(\"accuracy: \" + str(accuracy_score(testY,y_pred)))\n",
    "print(\"precision: \" + str(precision_score(testY,y_pred, average='weighted')))\n",
    "print(\"recall: \" + str(recall_score(testY,y_pred, average='weighted')))\n",
    "print(\"f1: \" + str(f1_score(testY,y_pred, average='weighted')))\n",
    "\n",
    "y_pred = bnb_fs.predict(testX_fs)\n",
    "\n",
    "print(\"BNB\")\n",
    "print(\"accuracy: \" + str(accuracy_score(testY,y_pred)))\n",
    "print(\"precision: \" + str(precision_score(testY,y_pred, average='weighted')))\n",
    "print(\"recall: \" + str(recall_score(testY,y_pred, average='weighted')))\n",
    "print(\"f1: \" + str(f1_score(testY,y_pred, average='weighted')))\n",
    "\n",
    "y_pred = dt_fs.predict(testX_fs)\n",
    "\n",
    "print(\"DT\")\n",
    "print(\"accuracy: \" + str(accuracy_score(testY,y_pred)))\n",
    "print(\"precision: \" + str(precision_score(testY,y_pred, average='weighted')))\n",
    "print(\"recall: \" + str(recall_score(testY,y_pred, average='weighted')))\n",
    "print(\"f1: \" + str(f1_score(testY,y_pred, average='weighted')))"
   ]
  },
  {
   "cell_type": "markdown",
   "metadata": {},
   "source": [
    "### without fs"
   ]
  },
  {
   "cell_type": "code",
   "execution_count": 8,
   "metadata": {
    "collapsed": false,
    "deletable": true,
    "editable": true
   },
   "outputs": [
    {
     "name": "stdout",
     "output_type": "stream",
     "text": [
      "Log reg\n",
      "RMSE: 0.347222222222\n",
      "R^2: -0.546723952739\n",
      "LR\n",
      "RMSE: 0.22691211933\n",
      "R^2: -0.0107947811856\n",
      "log reg l1\n",
      "RMSE: 0.361111111111\n",
      "R^2: -0.608592910849\n",
      "ridge\n",
      "RMSE: 0.226871251652\n",
      "R^2: -0.010612733459\n",
      "Lasso\n",
      "RMSE: 0.21984633654\n",
      "R^2: 0.0206802074136\n",
      "LassoLars\n",
      "RMSE: 0.224911977928\n",
      "R^2: -0.00188502133374\n"
     ]
    }
   ],
   "source": [
    "y_pred = log_reg.predict(testX)\n",
    "\n",
    "print(\"Log reg\")\n",
    "print(\"RMSE: \" + str(mean_squared_error(testY, y_pred)))\n",
    "print(\"R^2: \" + str(r2_score(testY, y_pred)))\n",
    "\n",
    "y_pred = lr.predict(testX)\n",
    "print(\"LR\")\n",
    "print(\"RMSE: \" + str(mean_squared_error(testY, y_pred)))\n",
    "print(\"R^2: \" + str(r2_score(testY, y_pred)))\n",
    "\n",
    "y_pred = log_reg_l1.predict(testX)\n",
    "print(\"log reg l1\")\n",
    "print(\"RMSE: \" + str(mean_squared_error(testY, y_pred)))\n",
    "print(\"R^2: \" + str(r2_score(testY, y_pred)))\n",
    "\n",
    "y_pred = ridge.predict(testX)\n",
    "print(\"ridge\")\n",
    "print(\"RMSE: \" + str(mean_squared_error(testY, y_pred)))\n",
    "print(\"R^2: \" + str(r2_score(testY, y_pred)))\n",
    "\n",
    "y_pred = lasso.predict(testX)\n",
    "print(\"Lasso\")\n",
    "print(\"RMSE: \" + str(mean_squared_error(testY, y_pred)))\n",
    "print(\"R^2: \" + str(r2_score(testY, y_pred)))\n",
    "\n",
    "y_pred = lasso_lars.predict(testX)\n",
    "print(\"LassoLars\")\n",
    "print(\"RMSE: \" + str(mean_squared_error(testY, y_pred)))\n",
    "print(\"R^2: \" + str(r2_score(testY, y_pred)))"
   ]
  },
  {
   "cell_type": "markdown",
   "metadata": {},
   "source": [
    "### with fs"
   ]
  },
  {
   "cell_type": "code",
   "execution_count": 18,
   "metadata": {
    "collapsed": false
   },
   "outputs": [
    {
     "name": "stdout",
     "output_type": "stream",
     "text": [
      "Log reg\n",
      "RMSE: 0.340277777778\n",
      "R^2: -0.515789473684\n",
      "LR\n",
      "RMSE: 4.58348670136\n",
      "R^2: -19.417439364\n",
      "log reg l1\n",
      "RMSE: 0.340277777778\n",
      "R^2: -0.515789473684\n"
     ]
    },
    {
     "ename": "NameError",
     "evalue": "name 'ridge_fs' is not defined",
     "output_type": "error",
     "traceback": [
      "\u001b[0;31m---------------------------------------------------------------------------\u001b[0m",
      "\u001b[0;31mNameError\u001b[0m                                 Traceback (most recent call last)",
      "\u001b[0;32m<ipython-input-18-6e4ea9b2171c>\u001b[0m in \u001b[0;36m<module>\u001b[0;34m()\u001b[0m\n\u001b[1;32m     17\u001b[0m \u001b[0mprint\u001b[0m\u001b[0;34m(\u001b[0m\u001b[0;34m\"R^2: \"\u001b[0m \u001b[0;34m+\u001b[0m \u001b[0mstr\u001b[0m\u001b[0;34m(\u001b[0m\u001b[0mr2_score\u001b[0m\u001b[0;34m(\u001b[0m\u001b[0mtestY\u001b[0m\u001b[0;34m,\u001b[0m \u001b[0my_pred\u001b[0m\u001b[0;34m)\u001b[0m\u001b[0;34m)\u001b[0m\u001b[0;34m)\u001b[0m\u001b[0;34m\u001b[0m\u001b[0m\n\u001b[1;32m     18\u001b[0m \u001b[0;34m\u001b[0m\u001b[0m\n\u001b[0;32m---> 19\u001b[0;31m \u001b[0my_pred\u001b[0m \u001b[0;34m=\u001b[0m \u001b[0mridge_fs\u001b[0m\u001b[0;34m.\u001b[0m\u001b[0mpredict\u001b[0m\u001b[0;34m(\u001b[0m\u001b[0mtestX_fs\u001b[0m\u001b[0;34m)\u001b[0m\u001b[0;34m\u001b[0m\u001b[0m\n\u001b[0m\u001b[1;32m     20\u001b[0m \u001b[0mprint\u001b[0m\u001b[0;34m(\u001b[0m\u001b[0;34m\"ridge\"\u001b[0m\u001b[0;34m)\u001b[0m\u001b[0;34m\u001b[0m\u001b[0m\n\u001b[1;32m     21\u001b[0m \u001b[0mprint\u001b[0m\u001b[0;34m(\u001b[0m\u001b[0;34m\"RMSE: \"\u001b[0m \u001b[0;34m+\u001b[0m \u001b[0mstr\u001b[0m\u001b[0;34m(\u001b[0m\u001b[0mmean_squared_error\u001b[0m\u001b[0;34m(\u001b[0m\u001b[0mtestY\u001b[0m\u001b[0;34m,\u001b[0m \u001b[0my_pred\u001b[0m\u001b[0;34m)\u001b[0m\u001b[0;34m)\u001b[0m\u001b[0;34m)\u001b[0m\u001b[0;34m\u001b[0m\u001b[0m\n",
      "\u001b[0;31mNameError\u001b[0m: name 'ridge_fs' is not defined"
     ]
    }
   ],
   "source": [
    "testX_fs = testX[pd.DataFrame(X_new).columns]\n",
    "\n",
    "y_pred = log_reg_fs.predict(testX_fs)\n",
    "\n",
    "print(\"Log reg\")\n",
    "print(\"RMSE: \" + str(mean_squared_error(testY, y_pred)))\n",
    "print(\"R^2: \" + str(r2_score(testY, y_pred)))\n",
    "\n",
    "y_pred = lr_fs.predict(testX_fs)\n",
    "print(\"LR\")\n",
    "print(\"RMSE: \" + str(mean_squared_error(testY, y_pred)))\n",
    "print(\"R^2: \" + str(r2_score(testY, y_pred)))\n",
    "\n",
    "y_pred = log_reg_l1_fs.predict(testX_fs)\n",
    "print(\"log reg l1\")\n",
    "print(\"RMSE: \" + str(mean_squared_error(testY, y_pred)))\n",
    "print(\"R^2: \" + str(r2_score(testY, y_pred)))\n",
    "\n",
    "y_pred = ridge_fs.predict(testX_fs)\n",
    "print(\"ridge\")\n",
    "print(\"RMSE: \" + str(mean_squared_error(testY, y_pred)))\n",
    "print(\"R^2: \" + str(r2_score(testY, y_pred)))\n",
    "\n",
    "y_pred = lasso_fs.predict(testX_fs)\n",
    "print(\"Lasso\")\n",
    "print(\"RMSE: \" + str(mean_squared_error(testY, y_pred)))\n",
    "print(\"R^2: \" + str(r2_score(testY, y_pred)))\n",
    "\n",
    "y_pred = lasso_lars_fs.predict(testX_fs)\n",
    "print(\"LassoLars\")\n",
    "print(\"RMSE: \" + str(mean_squared_error(testY, y_pred)))\n",
    "print(\"R^2: \" + str(r2_score(testY, y_pred)))"
   ]
  },
  {
   "cell_type": "markdown",
   "metadata": {
    "deletable": true,
    "editable": true
   },
   "source": [
    "### ROC Curves for Classifiers"
   ]
  },
  {
   "cell_type": "code",
   "execution_count": 53,
   "metadata": {
    "collapsed": false,
    "deletable": true,
    "editable": true
   },
   "outputs": [],
   "source": [
    "classifiers = [gnb, rnb, knn, bnb, dt]\n",
    "clf_labels = {gnb: \"gnb\",rnb: \"rnb\",knn: \"knn\",bnb: \"bnb\",dt: \"dt\"}\n",
    "\n",
    "def plot_ROC(fpr, tpr, roc_auc, l):\n",
    "    label_end = ': AUC = %0.5f' % roc_auc\n",
    "    label = l + label_end\n",
    "    lw = 2\n",
    "    r = lambda: random.randint(0, 255)\n",
    "    c = '#%02X%02X%02X' % (r(),r(),r())\n",
    "    plt.plot(fpr, tpr, color=c,\n",
    "             lw=lw, label=label)\n",
    "\n",
    "\n",
    "# def calcROC(clf, test_feature, test_class, label):\n",
    "#     predict_probas = clf.predict_proba(test_feature)[:,1]\n",
    "#     fpr, tpr, _ = roc_curve(test_class, predict_probas)\n",
    "#     roc_auc = auc(fpr, tpr)\n",
    "#     # lb = 'BOW-NB' + label\n",
    "#     plot_ROC(fpr, tpr, roc_auc, label)\n",
    "\n",
    "def calcROC(clf, X, y_true):\n",
    "    y_pred = clf.predict_proba(X)[:,1]\n",
    "    fpr, tpr, _ = roc_curve(y_true, y_pred)\n",
    "    roc_auc = auc(fpr, tpr)\n",
    "    # lb = 'BOW-NB' + label\n",
    "    plot_ROC(fpr, tpr, roc_auc, clf_labels[clf])"
   ]
  },
  {
   "cell_type": "code",
   "execution_count": 54,
   "metadata": {
    "collapsed": false,
    "deletable": true,
    "editable": true
   },
   "outputs": [
    {
     "data": {
      "image/png": "[encoded data removed]",
      "text/plain": [
       "<matplotlib.figure.Figure at 0x103f8e668>"
      ]
     },
     "metadata": {},
     "output_type": "display_data"
    }
   ],
   "source": [
    "for clf in classifiers:\n",
    "    y_true = testY\n",
    "    calcROC(clf, testX, y_true)\n",
    "    \n",
    "plt.plot([0, 1], [0, 1], 'k--')\n",
    "plt.xlim([0.0, 1.0])\n",
    "plt.ylim([0.0, 1.05])\n",
    "plt.xlabel('False Positive Rate')\n",
    "plt.ylabel('True Positive Rate')\n",
    "plt.title('ROC Curve')\n",
    "plt.legend(loc=\"lower right\")\n",
    "plt.show()"
   ]
  },
  {
   "cell_type": "code",
   "execution_count": 91,
   "metadata": {
    "collapsed": false,
    "deletable": true,
    "editable": true
   },
   "outputs": [
    {
     "name": "stderr",
     "output_type": "stream",
     "text": [
      "/Library/Frameworks/Python.framework/Versions/3.6/lib/python3.6/site-packages/ipykernel/__main__.py:19: VisibleDeprecationWarning: boolean index did not match indexed array along dimension 1; dimension is 2 but corresponding boolean dimension is 3\n"
     ]
    },
    {
     "ename": "IndexError",
     "evalue": "index 2 is out of bounds for axis 1 with size 2",
     "output_type": "error",
     "traceback": [
      "\u001b[0;31m---------------------------------------------------------------------------\u001b[0m",
      "\u001b[0;31mIndexError\u001b[0m                                Traceback (most recent call last)",
      "\u001b[0;32m<ipython-input-91-4f4831a6c184>\u001b[0m in \u001b[0;36m<module>\u001b[0;34m()\u001b[0m\n\u001b[1;32m     17\u001b[0m \u001b[0;31m# power 1/3 scales the path less brutally than the log, and enables to\u001b[0m\u001b[0;34m\u001b[0m\u001b[0;34m\u001b[0m\u001b[0m\n\u001b[1;32m     18\u001b[0m \u001b[0;31m# see the progression along the path\u001b[0m\u001b[0;34m\u001b[0m\u001b[0;34m\u001b[0m\u001b[0m\n\u001b[0;32m---> 19\u001b[0;31m \u001b[0mhg\u001b[0m \u001b[0;34m=\u001b[0m \u001b[0mplt\u001b[0m\u001b[0;34m.\u001b[0m\u001b[0mplot\u001b[0m\u001b[0;34m(\u001b[0m\u001b[0malpha_grid\u001b[0m\u001b[0;34m[\u001b[0m\u001b[0;36m1\u001b[0m\u001b[0;34m:\u001b[0m\u001b[0;34m]\u001b[0m \u001b[0;34m**\u001b[0m \u001b[0;36m.333\u001b[0m\u001b[0;34m,\u001b[0m \u001b[0mscores_path\u001b[0m\u001b[0;34m[\u001b[0m\u001b[0mcoef\u001b[0m \u001b[0;34m!=\u001b[0m \u001b[0;36m0\u001b[0m\u001b[0;34m]\u001b[0m\u001b[0;34m.\u001b[0m\u001b[0mT\u001b[0m\u001b[0;34m[\u001b[0m\u001b[0;36m1\u001b[0m\u001b[0;34m:\u001b[0m\u001b[0;34m]\u001b[0m\u001b[0;34m,\u001b[0m \u001b[0;34m'r'\u001b[0m\u001b[0;34m)\u001b[0m\u001b[0;34m\u001b[0m\u001b[0m\n\u001b[0m\u001b[1;32m     20\u001b[0m \u001b[0mhb\u001b[0m \u001b[0;34m=\u001b[0m \u001b[0mplt\u001b[0m\u001b[0;34m.\u001b[0m\u001b[0mplot\u001b[0m\u001b[0;34m(\u001b[0m\u001b[0malpha_grid\u001b[0m\u001b[0;34m[\u001b[0m\u001b[0;36m1\u001b[0m\u001b[0;34m:\u001b[0m\u001b[0;34m]\u001b[0m \u001b[0;34m**\u001b[0m \u001b[0;36m.333\u001b[0m\u001b[0;34m,\u001b[0m \u001b[0mscores_path\u001b[0m\u001b[0;34m[\u001b[0m\u001b[0mcoef\u001b[0m \u001b[0;34m==\u001b[0m \u001b[0;36m0\u001b[0m\u001b[0;34m]\u001b[0m\u001b[0;34m.\u001b[0m\u001b[0mT\u001b[0m\u001b[0;34m[\u001b[0m\u001b[0;36m1\u001b[0m\u001b[0;34m:\u001b[0m\u001b[0;34m]\u001b[0m\u001b[0;34m,\u001b[0m \u001b[0;34m'k'\u001b[0m\u001b[0;34m)\u001b[0m\u001b[0;34m\u001b[0m\u001b[0m\n\u001b[1;32m     21\u001b[0m \u001b[0mymin\u001b[0m\u001b[0;34m,\u001b[0m \u001b[0mymax\u001b[0m \u001b[0;34m=\u001b[0m \u001b[0mplt\u001b[0m\u001b[0;34m.\u001b[0m\u001b[0mylim\u001b[0m\u001b[0;34m(\u001b[0m\u001b[0;34m)\u001b[0m\u001b[0;34m\u001b[0m\u001b[0m\n",
      "\u001b[0;31mIndexError\u001b[0m: index 2 is out of bounds for axis 1 with size 2"
     ]
    }
   ],
   "source": [
    "from sklearn.linear_model import (RandomizedLasso, lasso_stability_path,\n",
    "                                  LassoLarsCV)\n",
    "\n",
    "from sklearn.linear_model import lasso_path\n",
    "\n",
    "_, coef_path, _ = lasso_path(trainX, trainY, alphas=[5., 1., .5])\n",
    "\n",
    "# Plot stability selection path, using a high eps for early stopping\n",
    "# of the path, to save computation time\n",
    "alpha_grid, scores_path = lasso_stability_path(trainX.values, trainY.values, random_state=42,\n",
    "                                                   eps=0.05)\n",
    "\n",
    "coef = coef_path\n",
    "\n",
    "plt.figure()\n",
    "# We plot the path as a function of alpha/alpha_max to the power 1/3: the\n",
    "# power 1/3 scales the path less brutally than the log, and enables to\n",
    "# see the progression along the path\n",
    "hg = plt.plot(alpha_grid[1:] ** .333, scores_path[coef != 0].T[1:], 'r')\n",
    "hb = plt.plot(alpha_grid[1:] ** .333, scores_path[coef == 0].T[1:], 'k')\n",
    "ymin, ymax = plt.ylim()\n",
    "plt.xlabel(r'$(\\alpha / \\alpha_{max})^{1/3}$')\n",
    "plt.ylabel('Stability score: proportion of times selected')\n",
    "plt.title('Stability Scores Path - Mutual incoherence: %.1f' % mi)\n",
    "plt.axis('tight')\n",
    "plt.legend((hg[0], hb[0]), ('relevant features', 'irrelevant features'),\n",
    "               loc='best')\n",
    "    \n",
    "plt.show()"
   ]
  },
  {
   "cell_type": "code",
   "execution_count": 89,
   "metadata": {
    "collapsed": false,
    "deletable": true,
    "editable": true
   },
   "outputs": [],
   "source": [
    "from sklearn.linear_model import lasso_path\n",
    "\n",
    "_, coef_path, _ = lasso_path(trainX, trainY, alphas=[5., 1., .5])"
   ]
  },
  {
   "cell_type": "code",
   "execution_count": 90,
   "metadata": {
    "collapsed": false,
    "deletable": true,
    "editable": true
   },
   "outputs": [
    {
     "data": {
      "text/plain": [
       "array([[ -3.46519134e-07,  -4.03255038e-07,  -4.54295209e-07],\n",
       "       [ -0.00000000e+00,  -0.00000000e+00,   0.00000000e+00],\n",
       "       [  0.00000000e+00,   0.00000000e+00,   0.00000000e+00],\n",
       "       [  0.00000000e+00,   0.00000000e+00,   0.00000000e+00],\n",
       "       [  0.00000000e+00,   0.00000000e+00,   0.00000000e+00],\n",
       "       [  0.00000000e+00,   0.00000000e+00,   0.00000000e+00],\n",
       "       [ -0.00000000e+00,  -0.00000000e+00,  -0.00000000e+00],\n",
       "       [ -0.00000000e+00,  -5.57956407e-05,  -7.33814049e-05],\n",
       "       [  0.00000000e+00,   2.14651659e-05,   6.14148495e-05],\n",
       "       [ -0.00000000e+00,  -0.00000000e+00,  -0.00000000e+00],\n",
       "       [  0.00000000e+00,   1.61028315e-05,   7.82164510e-05],\n",
       "       [ -0.00000000e+00,  -0.00000000e+00,  -0.00000000e+00],\n",
       "       [ -0.00000000e+00,  -0.00000000e+00,  -0.00000000e+00],\n",
       "       [  0.00000000e+00,   0.00000000e+00,   0.00000000e+00],\n",
       "       [  0.00000000e+00,  -0.00000000e+00,  -0.00000000e+00],\n",
       "       [  0.00000000e+00,   0.00000000e+00,   0.00000000e+00],\n",
       "       [  0.00000000e+00,   0.00000000e+00,   0.00000000e+00],\n",
       "       [  0.00000000e+00,   0.00000000e+00,   0.00000000e+00],\n",
       "       [  0.00000000e+00,   7.10844526e-05,   1.13056103e-04],\n",
       "       [  0.00000000e+00,   0.00000000e+00,   0.00000000e+00],\n",
       "       [  0.00000000e+00,   0.00000000e+00,   0.00000000e+00],\n",
       "       [  0.00000000e+00,   0.00000000e+00,   0.00000000e+00],\n",
       "       [  0.00000000e+00,   0.00000000e+00,   0.00000000e+00],\n",
       "       [  0.00000000e+00,   0.00000000e+00,   0.00000000e+00],\n",
       "       [  4.33462797e-04,   4.40749769e-04,   4.34968503e-04]])"
      ]
     },
     "execution_count": 90,
     "metadata": {},
     "output_type": "execute_result"
    }
   ],
   "source": [
    "coef_path"
   ]
  },
  {
   "cell_type": "code",
   "execution_count": 92,
   "metadata": {
    "collapsed": false,
    "deletable": true,
    "editable": true
   },
   "outputs": [
    {
     "name": "stdout",
     "output_type": "stream",
     "text": [
      " Get DataFrame of feature names using different types of feature selection. \n"
     ]
    }
   ],
   "source": [
    "print(__doc__)\n",
    "\n",
    "# Author: Alexandre Gramfort and Gael Varoquaux\n",
    "# License: BSD 3 clause\n",
    "\n",
    "import warnings\n",
    "\n",
    "import matplotlib.pyplot as plt\n",
    "import numpy as np\n",
    "from scipy import linalg\n",
    "\n",
    "from sklearn.linear_model import (RandomizedLasso, lasso_stability_path,\n",
    "                                  LassoLarsCV)\n",
    "from sklearn.feature_selection import f_regression\n",
    "from sklearn.preprocessing import StandardScaler\n",
    "from sklearn.metrics import auc, precision_recall_curve\n",
    "from sklearn.ensemble import ExtraTreesRegressor\n",
    "from sklearn.utils.extmath import pinvh\n",
    "from sklearn.exceptions import ConvergenceWarning\n",
    "\n",
    "\n",
    "def mutual_incoherence(X_relevant, X_irelevant):\n",
    "    \"\"\"Mutual incoherence, as defined by formula (26a) of [Wainwright2006].\n",
    "    \"\"\"\n",
    "    projector = np.dot(np.dot(X_irelevant.T, X_relevant),\n",
    "                       pinvh(np.dot(X_relevant.T, X_relevant)))\n",
    "    return np.max(np.abs(projector).sum(axis=1))\n",
    "\n",
    "\n",
    "for conditioning in (1, 1e-4):\n",
    "    ###########################################################################\n",
    "    # Simulate regression data with a correlated design\n",
    "    n_features = 501\n",
    "    n_relevant_features = 3\n",
    "    noise_level = .2\n",
    "    coef_min = .2\n",
    "    # The Donoho-Tanner phase transition is around n_samples=25: below we\n",
    "    # will completely fail to recover in the well-conditioned case\n",
    "    n_samples = 25\n",
    "    block_size = n_relevant_features\n",
    "\n",
    "    rng = np.random.RandomState(42)\n",
    "\n",
    "    # The coefficients of our model\n",
    "    coef = np.zeros(n_features)\n",
    "    coef[:n_relevant_features] = coef_min + rng.rand(n_relevant_features)\n",
    "\n",
    "#     # The correlation of our design: variables correlated by blocs of 3\n",
    "#     corr = np.zeros((n_features, n_features))\n",
    "#     for i in range(0, n_features, block_size):\n",
    "#         corr[i:i + block_size, i:i + block_size] = 1 - conditioning\n",
    "#     corr.flat[::n_features + 1] = 1\n",
    "#     corr = linalg.cholesky(corr)\n",
    "\n",
    "#     # Our design\n",
    "#     X = rng.normal(size=(n_samples, n_features))\n",
    "#     X = np.dot(X, corr)\n",
    "#     # Keep [Wainwright2006] (26c) constant\n",
    "#     X[:n_relevant_features] /= np.abs(\n",
    "#         linalg.svdvals(X[:n_relevant_features])).max()\n",
    "#     X = StandardScaler().fit_transform(X.copy())\n",
    "\n",
    "#     # The output variable\n",
    "#     y = np.dot(X, coef)\n",
    "#     y /= np.std(y)\n",
    "#     # We scale the added noise as a function of the average correlation\n",
    "#     # between the design and the output variable\n",
    "#     y += noise_level * rng.normal(size=n_samples)\n",
    "#     mi = mutual_incoherence(X[:, :n_relevant_features],\n",
    "#                             X[:, n_relevant_features:])\n",
    "\n",
    "#     ###########################################################################\n",
    "#     # Plot stability selection path, using a high eps for early stopping\n",
    "#     # of the path, to save computation time\n",
    "#     alpha_grid, scores_path = lasso_stability_path(X, y, random_state=42,\n",
    "#                                                    eps=0.05)\n",
    "\n",
    "#     plt.figure()\n",
    "#     # We plot the path as a function of alpha/alpha_max to the power 1/3: the\n",
    "#     # power 1/3 scales the path less brutally than the log, and enables to\n",
    "#     # see the progression along the path\n",
    "#     hg = plt.plot(alpha_grid[1:] ** .333, scores_path[coef != 0].T[1:], 'r')\n",
    "#     hb = plt.plot(alpha_grid[1:] ** .333, scores_path[coef == 0].T[1:], 'k')\n",
    "#     ymin, ymax = plt.ylim()\n",
    "#     plt.xlabel(r'$(\\alpha / \\alpha_{max})^{1/3}$')\n",
    "#     plt.ylabel('Stability score: proportion of times selected')\n",
    "#     plt.title('Stability Scores Path - Mutual incoherence: %.1f' % mi)\n",
    "#     plt.axis('tight')\n",
    "#     plt.legend((hg[0], hb[0]), ('relevant features', 'irrelevant features'),\n",
    "#                loc='best')\n",
    "\n",
    "#     ###########################################################################\n",
    "#     # Plot the estimated stability scores for a given alpha\n",
    "\n",
    "#     # Use 6-fold cross-validation rather than the default 3-fold: it leads to\n",
    "#     # a better choice of alpha:\n",
    "#     # Stop the user warnings outputs- they are not necessary for the example\n",
    "#     # as it is specifically set up to be challenging.\n",
    "#     with warnings.catch_warnings():\n",
    "#         warnings.simplefilter('ignore', UserWarning)\n",
    "#         warnings.simplefilter('ignore', ConvergenceWarning)\n",
    "#         lars_cv = LassoLarsCV(cv=6).fit(X, y)\n",
    "\n",
    "#     # Run the RandomizedLasso: we use a paths going down to .1*alpha_max\n",
    "#     # to avoid exploring the regime in which very noisy variables enter\n",
    "#     # the model\n",
    "#     alphas = np.linspace(lars_cv.alphas_[0], .1 * lars_cv.alphas_[0], 6)\n",
    "#     clf = RandomizedLasso(alpha=alphas, random_state=42).fit(X, y)\n",
    "#     trees = ExtraTreesRegressor(100).fit(X, y)\n",
    "#     # Compare with F-score\n",
    "#     F, _ = f_regression(X, y)\n",
    "\n",
    "#     plt.figure()\n",
    "#     for name, score in [('F-test', F),\n",
    "#                         ('Stability selection', clf.scores_),\n",
    "#                         ('Lasso coefs', np.abs(lars_cv.coef_)),\n",
    "#                         ('Trees', trees.feature_importances_),\n",
    "#                         ]:\n",
    "#         precision, recall, thresholds = precision_recall_curve(coef != 0,\n",
    "#                                                                score)\n",
    "#         plt.semilogy(np.maximum(score / np.max(score), 1e-4),\n",
    "#                      label=\"%s. AUC: %.3f\" % (name, auc(recall, precision)))\n",
    "\n",
    "#     plt.plot(np.where(coef != 0)[0], [2e-4] * n_relevant_features, 'mo',\n",
    "#              label=\"Ground truth\")\n",
    "#     plt.xlabel(\"Features\")\n",
    "#     plt.ylabel(\"Score\")\n",
    "#     # Plot only the 100 first coefficients\n",
    "#     plt.xlim(0, 100)\n",
    "#     plt.legend(loc='best')\n",
    "#     plt.title('Feature selection scores - Mutual incoherence: %.1f'\n",
    "#               % mi)\n",
    "\n",
    "# plt.show()"
   ]
  },
  {
   "cell_type": "code",
   "execution_count": 93,
   "metadata": {
    "collapsed": false,
    "deletable": true,
    "editable": true
   },
   "outputs": [
    {
     "data": {
      "text/plain": [
       "array([ 0.57454012,  1.15071431,  0.93199394,  0.        ,  0.        ,\n",
       "        0.        ,  0.        ,  0.        ,  0.        ,  0.        ,\n",
       "        0.        ,  0.        ,  0.        ,  0.        ,  0.        ,\n",
       "        0.        ,  0.        ,  0.        ,  0.        ,  0.        ,\n",
       "        0.        ,  0.        ,  0.        ,  0.        ,  0.        ,\n",
       "        0.        ,  0.        ,  0.        ,  0.        ,  0.        ,\n",
       "        0.        ,  0.        ,  0.        ,  0.        ,  0.        ,\n",
       "        0.        ,  0.        ,  0.        ,  0.        ,  0.        ,\n",
       "        0.        ,  0.        ,  0.        ,  0.        ,  0.        ,\n",
       "        0.        ,  0.        ,  0.        ,  0.        ,  0.        ,\n",
       "        0.        ,  0.        ,  0.        ,  0.        ,  0.        ,\n",
       "        0.        ,  0.        ,  0.        ,  0.        ,  0.        ,\n",
       "        0.        ,  0.        ,  0.        ,  0.        ,  0.        ,\n",
       "        0.        ,  0.        ,  0.        ,  0.        ,  0.        ,\n",
       "        0.        ,  0.        ,  0.        ,  0.        ,  0.        ,\n",
       "        0.        ,  0.        ,  0.        ,  0.        ,  0.        ,\n",
       "        0.        ,  0.        ,  0.        ,  0.        ,  0.        ,\n",
       "        0.        ,  0.        ,  0.        ,  0.        ,  0.        ,\n",
       "        0.        ,  0.        ,  0.        ,  0.        ,  0.        ,\n",
       "        0.        ,  0.        ,  0.        ,  0.        ,  0.        ,\n",
       "        0.        ,  0.        ,  0.        ,  0.        ,  0.        ,\n",
       "        0.        ,  0.        ,  0.        ,  0.        ,  0.        ,\n",
       "        0.        ,  0.        ,  0.        ,  0.        ,  0.        ,\n",
       "        0.        ,  0.        ,  0.        ,  0.        ,  0.        ,\n",
       "        0.        ,  0.        ,  0.        ,  0.        ,  0.        ,\n",
       "        0.        ,  0.        ,  0.        ,  0.        ,  0.        ,\n",
       "        0.        ,  0.        ,  0.        ,  0.        ,  0.        ,\n",
       "        0.        ,  0.        ,  0.        ,  0.        ,  0.        ,\n",
       "        0.        ,  0.        ,  0.        ,  0.        ,  0.        ,\n",
       "        0.        ,  0.        ,  0.        ,  0.        ,  0.        ,\n",
       "        0.        ,  0.        ,  0.        ,  0.        ,  0.        ,\n",
       "        0.        ,  0.        ,  0.        ,  0.        ,  0.        ,\n",
       "        0.        ,  0.        ,  0.        ,  0.        ,  0.        ,\n",
       "        0.        ,  0.        ,  0.        ,  0.        ,  0.        ,\n",
       "        0.        ,  0.        ,  0.        ,  0.        ,  0.        ,\n",
       "        0.        ,  0.        ,  0.        ,  0.        ,  0.        ,\n",
       "        0.        ,  0.        ,  0.        ,  0.        ,  0.        ,\n",
       "        0.        ,  0.        ,  0.        ,  0.        ,  0.        ,\n",
       "        0.        ,  0.        ,  0.        ,  0.        ,  0.        ,\n",
       "        0.        ,  0.        ,  0.        ,  0.        ,  0.        ,\n",
       "        0.        ,  0.        ,  0.        ,  0.        ,  0.        ,\n",
       "        0.        ,  0.        ,  0.        ,  0.        ,  0.        ,\n",
       "        0.        ,  0.        ,  0.        ,  0.        ,  0.        ,\n",
       "        0.        ,  0.        ,  0.        ,  0.        ,  0.        ,\n",
       "        0.        ,  0.        ,  0.        ,  0.        ,  0.        ,\n",
       "        0.        ,  0.        ,  0.        ,  0.        ,  0.        ,\n",
       "        0.        ,  0.        ,  0.        ,  0.        ,  0.        ,\n",
       "        0.        ,  0.        ,  0.        ,  0.        ,  0.        ,\n",
       "        0.        ,  0.        ,  0.        ,  0.        ,  0.        ,\n",
       "        0.        ,  0.        ,  0.        ,  0.        ,  0.        ,\n",
       "        0.        ,  0.        ,  0.        ,  0.        ,  0.        ,\n",
       "        0.        ,  0.        ,  0.        ,  0.        ,  0.        ,\n",
       "        0.        ,  0.        ,  0.        ,  0.        ,  0.        ,\n",
       "        0.        ,  0.        ,  0.        ,  0.        ,  0.        ,\n",
       "        0.        ,  0.        ,  0.        ,  0.        ,  0.        ,\n",
       "        0.        ,  0.        ,  0.        ,  0.        ,  0.        ,\n",
       "        0.        ,  0.        ,  0.        ,  0.        ,  0.        ,\n",
       "        0.        ,  0.        ,  0.        ,  0.        ,  0.        ,\n",
       "        0.        ,  0.        ,  0.        ,  0.        ,  0.        ,\n",
       "        0.        ,  0.        ,  0.        ,  0.        ,  0.        ,\n",
       "        0.        ,  0.        ,  0.        ,  0.        ,  0.        ,\n",
       "        0.        ,  0.        ,  0.        ,  0.        ,  0.        ,\n",
       "        0.        ,  0.        ,  0.        ,  0.        ,  0.        ,\n",
       "        0.        ,  0.        ,  0.        ,  0.        ,  0.        ,\n",
       "        0.        ,  0.        ,  0.        ,  0.        ,  0.        ,\n",
       "        0.        ,  0.        ,  0.        ,  0.        ,  0.        ,\n",
       "        0.        ,  0.        ,  0.        ,  0.        ,  0.        ,\n",
       "        0.        ,  0.        ,  0.        ,  0.        ,  0.        ,\n",
       "        0.        ,  0.        ,  0.        ,  0.        ,  0.        ,\n",
       "        0.        ,  0.        ,  0.        ,  0.        ,  0.        ,\n",
       "        0.        ,  0.        ,  0.        ,  0.        ,  0.        ,\n",
       "        0.        ,  0.        ,  0.        ,  0.        ,  0.        ,\n",
       "        0.        ,  0.        ,  0.        ,  0.        ,  0.        ,\n",
       "        0.        ,  0.        ,  0.        ,  0.        ,  0.        ,\n",
       "        0.        ,  0.        ,  0.        ,  0.        ,  0.        ,\n",
       "        0.        ,  0.        ,  0.        ,  0.        ,  0.        ,\n",
       "        0.        ,  0.        ,  0.        ,  0.        ,  0.        ,\n",
       "        0.        ,  0.        ,  0.        ,  0.        ,  0.        ,\n",
       "        0.        ,  0.        ,  0.        ,  0.        ,  0.        ,\n",
       "        0.        ,  0.        ,  0.        ,  0.        ,  0.        ,\n",
       "        0.        ,  0.        ,  0.        ,  0.        ,  0.        ,\n",
       "        0.        ,  0.        ,  0.        ,  0.        ,  0.        ,\n",
       "        0.        ,  0.        ,  0.        ,  0.        ,  0.        ,\n",
       "        0.        ,  0.        ,  0.        ,  0.        ,  0.        ,\n",
       "        0.        ,  0.        ,  0.        ,  0.        ,  0.        ,\n",
       "        0.        ,  0.        ,  0.        ,  0.        ,  0.        ,\n",
       "        0.        ,  0.        ,  0.        ,  0.        ,  0.        ,\n",
       "        0.        ,  0.        ,  0.        ,  0.        ,  0.        ,\n",
       "        0.        ,  0.        ,  0.        ,  0.        ,  0.        ,\n",
       "        0.        ,  0.        ,  0.        ,  0.        ,  0.        ,\n",
       "        0.        ,  0.        ,  0.        ,  0.        ,  0.        ,\n",
       "        0.        ,  0.        ,  0.        ,  0.        ,  0.        ,\n",
       "        0.        ,  0.        ,  0.        ,  0.        ,  0.        ,\n",
       "        0.        ,  0.        ,  0.        ,  0.        ,  0.        ,\n",
       "        0.        ,  0.        ,  0.        ,  0.        ,  0.        ,\n",
       "        0.        ,  0.        ,  0.        ,  0.        ,  0.        ,\n",
       "        0.        ,  0.        ,  0.        ,  0.        ,  0.        ,\n",
       "        0.        ,  0.        ,  0.        ,  0.        ,  0.        ,\n",
       "        0.        ,  0.        ,  0.        ,  0.        ,  0.        ,\n",
       "        0.        ,  0.        ,  0.        ,  0.        ,  0.        ,  0.        ])"
      ]
     },
     "execution_count": 93,
     "metadata": {},
     "output_type": "execute_result"
    }
   ],
   "source": [
    "coef"
   ]
  },
  {
   "cell_type": "code",
   "execution_count": null,
   "metadata": {
    "collapsed": true,
    "deletable": true,
    "editable": true
   },
   "outputs": [],
   "source": []
  }
 ],
 "metadata": {
  "kernelspec": {
   "display_name": "Python 3",
   "language": "python",
   "name": "python3"
  },
  "language_info": {
   "codemirror_mode": {
    "name": "ipython",
    "version": 3
   },
   "file_extension": ".py",
   "mimetype": "text/x-python",
   "name": "python",
   "nbconvert_exporter": "python",
   "pygments_lexer": "ipython3",
   "version": "3.6.1"
  }
 },
 "nbformat": 4,
 "nbformat_minor": 2
}
