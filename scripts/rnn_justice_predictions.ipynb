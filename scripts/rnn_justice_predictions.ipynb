{
 "cells": [
  {
   "cell_type": "code",
   "execution_count": null,
   "metadata": {
    "collapsed": true
   },
   "outputs": [],
   "source": [
    "import numpy as np\n",
    "import pandas as pd\n",
    "import math\n",
    "from datetime import datetime\n",
    "import matplotlib.pyplot as plt"
   ]
  },
  {
   "cell_type": "markdown",
   "metadata": {},
   "source": [
    "### Load Justice-centered data into pandas df"
   ]
  },
  {
   "cell_type": "code",
   "execution_count": null,
   "metadata": {
    "collapsed": true
   },
   "outputs": [],
   "source": [
    "# trainX = pd.read_csv('../data/trainX_justice.csv')\n",
    "# trainY = pd.read_csv('../data/trainY_justice.csv')\n",
    "# testX = pd.read_csv('../data/testX_justice.csv')\n",
    "# testY = pd.read_csv('../data/testY_justice.csv')"
   ]
  },
  {
   "cell_type": "markdown",
   "metadata": {},
   "source": [
    "We use the \"Full\" dataset to reduce the likelihood of predicting on an unseen justice"
   ]
  },
  {
   "cell_type": "code",
   "execution_count": 3,
   "metadata": {
    "collapsed": false
   },
   "outputs": [],
   "source": [
    "trainX = pd.read_csv('../data/trainX_justice_full.csv')\n",
    "trainY = pd.read_csv('../data/trainY_justice_full.csv')\n",
    "\n",
    "p = 0.1 # Proportion to shift to test set\n",
    "cases = np.unique(trainX['caseId']) # list of all the cases (randomly select to choose as test)\n",
    "num_test = int(np.floor(cases.shape[0] * p))"
   ]
  },
  {
   "cell_type": "code",
   "execution_count": 4,
   "metadata": {
    "collapsed": false,
    "scrolled": true
   },
   "outputs": [],
   "source": [
    "indices = np.random.randint(0, cases.shape[0], num_test)\n",
    "mask = np.ones_like(cases,dtype=np.bool)\n",
    "mask[indices] = 0 \n",
    "test_cases = cases[indices]\n",
    "train_cases = cases[mask]\n",
    "train_idx = trainX.loc[trainX['caseId'].isin(train_cases)].index\n",
    "test_idx = trainX.loc[trainX['caseId'].isin(test_cases)].index\n",
    "tmpX = trainX\n",
    "tmpY = trainY\n",
    "testX = tmpX.loc[test_idx, :].copy().reset_index()\n",
    "testY = tmpY.loc[test_idx, :].copy().reset_index()\n",
    "trainX = tmpX.loc[train_idx, :].copy().reset_index()\n",
    "trainY = tmpY.loc[train_idx, :].copy().reset_index()\n",
    "tmpX = tmpY = -1"
   ]
  },
  {
   "cell_type": "markdown",
   "metadata": {},
   "source": [
    "### Variables (from preprocessing)"
   ]
  },
  {
   "cell_type": "code",
   "execution_count": 5,
   "metadata": {
    "collapsed": true
   },
   "outputs": [],
   "source": [
    "# column names by category\n",
    "id_variables_to_drop = [\n",
    "    u'justiceName', #Name and unique ID\n",
    "    ]\n",
    "id_variables_to_keep = [\n",
    "    u'justice',  #Name and unique ID\n",
    "    u'caseId', u'docketId', u'caseIssuesId', u'voteId',\n",
    "    u'usCite', u'sctCite', u'ledCite', u'lexisCite',\n",
    "    u'docket']\n",
    "    \n",
    "bg_variables = [\n",
    "    u'caseName', u'petitioner', u'petitionerState',\n",
    "    u'respondent', u'respondentState', u'jurisdiction',\n",
    "    u'adminAction', u'adminActionState', u'threeJudgeFdc',\n",
    "    u'caseOrigin', u'caseOriginState', u'caseSource',\n",
    "    u'caseSourceState', u'lcDisagreement', u'certReason',\n",
    "    u'lcDisposition', u'lcDispositionDirection',\n",
    "]\n",
    "\n",
    "chrono_include = [u'naturalCourt', u'chief']\n",
    "chrono_donotinclude = [u'dateDecision', u'decisionType', u'term',\n",
    "                       u'dateArgument', u'dateRearg']\n",
    "chrono_variables = chrono_include + chrono_donotinclude\n",
    "\n",
    "substantive_variables = [\n",
    "    u'issue', u'issueArea', u'decisionDirection',\n",
    "    u'decisionDirectionDissent', u'authorityDecision1',\n",
    "    u'authorityDecision2', u'lawType', u'lawSupp', u'lawMinor']\n",
    "\n",
    "outcome_variables = [\n",
    "    u'declarationUncon', u'caseDisposition',\n",
    "    u'caseDispositionUnusual', u'partyWinning', u'precedentAlteration',  \n",
    "    u'firstAgreement', u'secondAgreement']\n",
    "\n",
    "voting_variables = [u'voteUnclear', u'majOpinWriter', u'majOpinAssigner',\n",
    "                    u'splitVote', u'majVotes', u'minVotes',  u'vote', u'opinion',\n",
    "                    u'direction', u'majority']\n"
   ]
  },
  {
   "cell_type": "markdown",
   "metadata": {},
   "source": [
    "## Decide on outcome vector"
   ]
  },
  {
   "cell_type": "markdown",
   "metadata": {},
   "source": [
    "## One-hot encode select categorical variables\n",
    "#### + impute nulls"
   ]
  },
  {
   "cell_type": "code",
   "execution_count": 46,
   "metadata": {
    "collapsed": false
   },
   "outputs": [],
   "source": [
    "from sklearn.preprocessing import OneHotEncoder, LabelEncoder\n",
    "from scipy.sparse import csr_matrix, hstack\n",
    "\n",
    "class Categorical(object):\n",
    "    def __init__(self, df, outcomes, ohe_threshold = 0.08):\n",
    "        self.names = df['justiceName']\n",
    "        #Drop name vector (redundant)\n",
    "        self.arr = (df[id_variables_to_keep + bg_variables + chrono_include + substantive_variables]).copy()\n",
    "        self.arr = self.arr.fillna(-1) # Impute values\n",
    "        self.outcomes = outcomes.copy()\n",
    "        self.outcomes = self.outcomes.fillna(-1) #Impute values\n",
    "        # Select the categorical features to OHE\n",
    "        ohe_vars = []\n",
    "        other_vars = []\n",
    "        print \"Columns\"\n",
    "        print len(self.arr.columns)\n",
    "        ohe_threshold = math.floor(ohe_threshold * self.arr.shape[0])\n",
    "        for c in self.arr.columns:\n",
    "            u =  len(self.arr[c].unique())\n",
    "            if u < ohe_threshold:\n",
    "#                 prZint \"{0}: {1} unique\".format(c, len(self.arr[c].unique()))\n",
    "                ohe_vars.append(c)\n",
    "            else:\n",
    "                other_vars.append(c)\n",
    "        print len(ohe_vars)\n",
    "        print len(other_vars)\n",
    "        self.n_samples, self.n_features = self.arr.shape\n",
    "        self.n_cat_features = len(ohe_vars)\n",
    "        self.ohe_vars = ohe_vars\n",
    "        self.other_vars = other_vars\n",
    "        self.cont_vars = []\n",
    "        self.arr = pd.concat([self.arr[other_vars], self.arr[ohe_vars]], axis=1)\n",
    "        self.columns = other_vars + ohe_vars\n",
    "        \n",
    "        \n",
    "        #Label Encode select categorical variables\n",
    "        self.LE()\n",
    "        self.other = self.arr[other_vars].copy() #ID and other features\n",
    "        self.cat = self.arr[ohe_vars].copy() #Categorical features\n",
    "        self.cat_ohe = self.cat.copy() #OHE categorical features\n",
    "        self.n_justices = len(self.cat['justice'].unique())\n",
    "        #Label Encode the outcome variables\n",
    "        self.LE_Outcomes()\n",
    "        #OHE the categorical data\n",
    "        self.OHE()\n",
    "        \n",
    "        \n",
    "    def LE(self):\n",
    "        '''Label Encode ALL variables (to give reasonable feautures) '''  \n",
    "        le = {}  #keep le global so we may inverse_transform if necessary\n",
    "        for c in self.columns: #self.ohe_vars: #text_cols:\n",
    "            le[c] = LabelEncoder()\n",
    "            self.arr.loc[:,c] = le[c].fit_transform(self.arr[c])\n",
    "        self.le = le # label encoder (useful for reverse transforming also)\n",
    "        \n",
    "    def LE_Outcomes(self):\n",
    "        le = {}\n",
    "        for c in self.outcomes.columns:\n",
    "            le[c] = LabelEncoder()\n",
    "            self.outcomes.loc[:,c] = le[c].fit_transform(self.outcomes[c])\n",
    "                \n",
    "        self.le_out = le\n",
    "        \n",
    "    def OHE(self):\n",
    "        self.ohe = OneHotEncoder()\n",
    "        self.ohe.fit(self.cat)\n",
    "        self.cat_ohe =  self.ohe.transform(self.cat) \n",
    "    \n",
    "    \n",
    "    def orig_cat(self): # Not important since I cache the values, but keep for possible future functions\n",
    "        '''Returns the original array of the OHE encoded csr array\n",
    "            (requires the original one-hot encoder fit to the dataset) '''\n",
    "        return np.array([self.ohe.active_features_[col] for col in \n",
    "                            self.cat.sorted_indices().indices]).reshape(self.n_samples, self.n_cat_features) \\\n",
    "                                - self.ohe.feature_indices_[:-1]\n",
    "        \n",
    "    def getValue(self, col):\n",
    "        '''Return the original value for the label-encoded variable'''\n",
    "        if col not in self.columns:#self.ohe_vars:\n",
    "            return None\n",
    "        le = self.le[self.columns.index(col)]\n",
    "        return le.inverse_transform(self.cat[col])\n",
    "\n",
    "    def isolate_justice(self, ID, deep=False, ind=True):\n",
    "        '''Return sparse array for data for a single justice '''\n",
    "        \n",
    "        #Check if ID is a legal label-encodded justice id\n",
    "        if ID < 0 or ID >= self.n_justices:\n",
    "            print \"Error: Not a legal justice ID\"\n",
    "            return None\n",
    "        \n",
    "        if ind:\n",
    "            return self.cat.loc[self.cat['justice'] == ID].index\n",
    "        elif deep:\n",
    "            return self.cat.loc[self.cat['justice'] == ID].copy()\n",
    "        else:\n",
    "            return self.cat.loc[self.cat['justice'] == ID]\n",
    "        \n",
    "    def merge_Xmatrices(self, rows):\n",
    "        return hstack((csr_matrix(self.other.values[rows,:]), self.cat_ohe[rows,:]))\n",
    "    \n",
    "    \n",
    "    def justice_X(self, ID):\n",
    "        return self.merge_Xmatrices(rows=self.isolate_justice(ID))\n",
    "    \n",
    "    def justice_Y(self, ID):\n",
    "        return self.outcomes.values[self.isolate_justice(ID), :]\n",
    "    def add_feature(self, name, d, categorical=True):\n",
    "        '''Takes as input a dictionary of (justiceId: value) pairs. '''\n",
    "        typ = type(d.values()[0]) # Try to guess dtype (not really necessary in this sandbox, but hey)\n",
    "        col = np.zeros(self.arr.shape[0], dtype=typ)\n",
    "        for j, val in d.items():\n",
    "            indices = self.isolate_justice(j)\n",
    "            col[indices] = val\n",
    "        if name in self.le:\n",
    "            print \"Header Name already in use. Aborting.\"\n",
    "            return None\n",
    "        if categorical:\n",
    "            self.le[name] = LabelEncoder()\n",
    "            col = self.le[name].fit_transform(col)\n",
    "        \n",
    "        #Append to arr, cat\n",
    "        col = pd.DataFrame({name: col})\n",
    "        self.columns.append(name)\n",
    "        self.arr = pd.concat((self.arr, col), axis=1)\n",
    "        if categorical:\n",
    "            self.cat = pd.concat((self.cat, col), axis=1)\n",
    "            self.OHE() # Must re-OHE (Not too expensive in general)\n",
    "        else: # Continuous\n",
    "            self.cont_vars.append(name) #Only index continuous variables\n",
    "            self.other = pd.concat((self.other, col), axis=1)\n",
    "    def feature_array(self):\n",
    "        return np.concatenate((self.other[self.cont_vars], self.cat_ohe.toarray()), axis=1)\n",
    "    def label_array(self):\n",
    "        return self.outcomes['direction']\n",
    "        \n",
    "def index_outcome(arr, col, columns):\n",
    "    return arr[:, list(columns).index(col)]\n",
    "        "
   ]
  },
  {
   "cell_type": "markdown",
   "metadata": {},
   "source": [
    "## Create a categorical object"
   ]
  },
  {
   "cell_type": "code",
   "execution_count": 47,
   "metadata": {
    "collapsed": false,
    "scrolled": true
   },
   "outputs": [
    {
     "name": "stdout",
     "output_type": "stream",
     "text": [
      "Columns\n",
      "38\n",
      "28\n",
      "10\n",
      "Columns\n",
      "38\n",
      "28\n",
      "10\n"
     ]
    }
   ],
   "source": [
    "trainX_Cat = Categorical(df = trainX, outcomes = trainY)\n",
    "testX_Cat = Categorical(df = testX, outcomes = testY)\n",
    "trainX_names = np.unique(trainX['justiceName'])\n",
    "testX_names = np.unique(testX['justiceName'])"
   ]
  },
  {
   "cell_type": "code",
   "execution_count": 49,
   "metadata": {
    "collapsed": false
   },
   "outputs": [
    {
     "name": "stdout",
     "output_type": "stream",
     "text": [
      "(7415, 40)\n",
      "(70674, 40)\n",
      "(70674, 2534)\n",
      "(7415, 1320)\n"
     ]
    }
   ],
   "source": [
    "print testX.shape\n",
    "print trainX.shape\n",
    "print trainX_Cat.cat_ohe.shape\n",
    "print testX_Cat.cat_ohe.shape"
   ]
  },
  {
   "cell_type": "code",
   "execution_count": null,
   "metadata": {
    "collapsed": false
   },
   "outputs": [],
   "source": []
  },
  {
   "cell_type": "markdown",
   "metadata": {},
   "source": [
    "## Cluster justices into 2 groups based on likelihood to side with majority"
   ]
  },
  {
   "cell_type": "code",
   "execution_count": 33,
   "metadata": {
    "collapsed": false
   },
   "outputs": [
    {
     "name": "stdout",
     "output_type": "stream",
     "text": [
      "JHarlan2:\t12\n",
      "SDOConnor:\t25\n",
      "\n",
      "Green (relatively more frequently side with majority):\n",
      "JHarlan2 WHRehnquist WEBurger WBRutledge TMarshall TCClark SSotomayor SMinton SGBreyer SFReed SAAlito RHJackson RBGinsburg PStewart JPStevens WJBrennan WODouglas HLBlack AJGoldberg DHSouter JGRoberts EWarren FFrankfurter EKagan HABlackmun FMVinson \n",
      "\n",
      "Blue (relatively more likely to vote minority):\n",
      "SDOConnor FMurphy LFPowell CThomas CEWhittaker BRWhite AScalia AMKennedy HHBurton AFortas"
     ]
    },
    {
     "data": {
      "image/png": "[encoded data removed]",
      "text/plain": [
       "<matplotlib.figure.Figure at 0x7f0f0ae43e10>"
      ]
     },
     "metadata": {},
     "output_type": "display_data"
    },
    {
     "name": "stdout",
     "output_type": "stream",
     "text": [
      " JHarlan2:\t12\n",
      "TMarshall:\t19\n",
      "\n",
      "Green (relatively more frequently side with majority):\n",
      "JHarlan2 SAAlito RHJackson RBGinsburg PStewart SMinton JPStevens SSotomayor JGRoberts HLBlack HHBurton TCClark SFReed FMVinson FFrankfurter EWarren EKagan DHSouter CThomas WBRutledge BRWhite WEBurger WHRehnquist AJGoldberg SGBreyer \n",
      "\n",
      "Blue (relatively more likely to vote minority):\n",
      "TMarshall AFortas LFPowell WJBrennan HABlackmun FMurphy CEWhittaker AScalia AMKennedy SDOConnor WODouglas"
     ]
    },
    {
     "data": {
      "image/png": "[encoded data removed]",
      "text/plain": [
       "<matplotlib.figure.Figure at 0x7f0ef787d6d0>"
      ]
     },
     "metadata": {},
     "output_type": "display_data"
    },
    {
     "name": "stdout",
     "output_type": "stream",
     "text": [
      "\n"
     ]
    }
   ],
   "source": [
    "from sklearn.cluster import KMeans\n",
    "\n",
    "#Toggle Values\n",
    "col_title = \"majMin\"\n",
    "display = True\n",
    "\n",
    "# Create a dictionary to easily get name\n",
    "name_to_id = { name: l for (name, l) in zip(trainX_Cat.names.unique(), trainX_Cat.arr['justice'].unique())}\n",
    "id_to_name = { l: name for (name, l) in zip(trainX_Cat.names.unique(), trainX_Cat.arr['justice'].unique())}\n",
    "#Same for test case\n",
    "name_to_id_test = { name: l for (name, l) in zip(testX_Cat.names.unique(), testX_Cat.arr['justice'].unique())}\n",
    "id_to_name_test = { l: name for (name, l) in zip(testX_Cat.names.unique(), testX_Cat.arr['justice'].unique())}\n",
    "\n",
    "def maj_min_norm(cat, justiceID):\n",
    "    '''Return 2D vector representation where dim_0 is the percent time \n",
    "        voting with majority and dim_1 is percent voting with minority'''\n",
    "    j = cat.justice_Y(justiceID)\n",
    "    maj_min = index_outcome(j,'majority', trainY.columns)\n",
    "#     print np.unique(maj_min)\n",
    "    n = maj_min.shape[0]\n",
    "    total = np.sum(maj_min == 2)\n",
    "    return [float(total)/n, float(n-total)/n]\n",
    "    \n",
    "def majMin_cluster(df, name_to_id, id_to_name, names, test=True):\n",
    "    justices = np.array([maj_min_norm(df, i) for i in np.unique(df.arr['justice'].values)])\n",
    "\n",
    "    kmeans = KMeans(n_clusters=2, init=np.array([[1, 0],[0, 1]]),n_init=1,  random_state=0).fit(justices)\n",
    "    colors = np.where(kmeans.labels_ == 1, 'b', 'g')\n",
    "    # Group by \n",
    "    groups = np.array([[n, 1] if c else [n, 0] for (c, n) in zip(kmeans.labels_ == 1,names)])\n",
    "    groups =  groups[groups[:, 1].argsort()]\n",
    "\n",
    "    n_0 = np.sum(groups[:, 1] == '0')\n",
    "    n_1 = np.sum(groups[:, 1] == '1')\n",
    "    minor = np.empty((n_0, 2), dtype=('string', float))\n",
    "    major = np.empty((n_1, 2), dtype=('string', float))\n",
    "\n",
    "    # Label-> Justice\n",
    "    l_to_j = {}\n",
    "    for i in range(groups.shape[0]):\n",
    "        j = int(groups[i, 1]) \n",
    "        if j in l_to_j:\n",
    "            l_to_j[j].append(name_to_id[groups[i, 0]])\n",
    "        else:\n",
    "            print \"{0}:\\t{1}\".format(groups[i, 0], name_to_id[groups[i, 0]])\n",
    "            l_to_j[j] = [name_to_id[groups[i, 0]]]\n",
    "\n",
    "    print \"\\nGreen (relatively more frequently side with majority):\"\n",
    "    for name in l_to_j[0]:\n",
    "        print id_to_name[name],\n",
    "    print \"\\n\\nBlue (relatively more likely to vote minority):\"\n",
    "    for name in l_to_j[1]:\n",
    "        print id_to_name[name],\n",
    "\n",
    "    j_to_l = {} #Justice -> Label dict\n",
    "    for key, val in l_to_j.items():\n",
    "        for j in val:\n",
    "            j_to_l[j] = key\n",
    "    if col_title not in df.arr.columns and not test:\n",
    "        df.add_feature(col_title, j_to_l) # Add a \"likely to vote with minority\" variable\n",
    "\n",
    "    # Plot results\n",
    "    plt.scatter(justices[:, 0], justices[:, 1], c=colors)\n",
    "    plt.title('Justices by agreement')\n",
    "    plt.xlabel('Percent Time Agree with Majority')\n",
    "    plt.ylabel('Percent Time Agree with Minority')\n",
    "    plt.show()\n",
    "    return col_title, j_to_l\n",
    "    \n",
    "col_title, j_to_l = majMin_cluster(trainX_Cat, name_to_id, id_to_name, trainX_names, test=False)\n",
    "majMin_cluster(testX_Cat, name_to_id_test, id_to_name_test, testX_names)\n",
    "#Need to do it this way to not cheat..\n",
    "testX_Cat.add_feature(col_title, j_to_l)"
   ]
  },
  {
   "cell_type": "code",
   "execution_count": 45,
   "metadata": {
    "collapsed": false
   },
   "outputs": [
    {
     "name": "stdout",
     "output_type": "stream",
     "text": [
      "(70674, 2540)\n",
      "(7415, 1326)\n"
     ]
    }
   ],
   "source": [
    "print trainX_Cat.cat_ohe.shape\n",
    "print testX_Cat.cat_ohe.shape"
   ]
  },
  {
   "cell_type": "markdown",
   "metadata": {},
   "source": [
    "#### Note in the figure above that there are not distinct voting \"Clusters\", but it does seem that one may linearly separate the valuest\n",
    "\n",
    "Question: Does it make sense that I am normalizing based on the total number of votes taken by a justice? Or should I normalize based on the total maj/min votes OVERALL?"
   ]
  },
  {
   "cell_type": "markdown",
   "metadata": {},
   "source": [
    "## Now cluster based on Political inclination in each \"issue\" area\n",
    "\n",
    "Cluster based on issues?"
   ]
  },
  {
   "cell_type": "code",
   "execution_count": 34,
   "metadata": {
    "collapsed": false
   },
   "outputs": [
    {
     "name": "stderr",
     "output_type": "stream",
     "text": [
      "/home/whinthorn/anaconda2/lib/python2.7/site-packages/ipykernel/__main__.py:114: DeprecationWarning: assignment will raise an error in the future, most likely because your index result shape does not match the value array shape. You can use `arr.flat[index] = values` to keep the old behaviour.\n"
     ]
    }
   ],
   "source": [
    "col_title = \"idealogy\"\n",
    "def ideology_vector(cat, justiceID, vecSize):\n",
    "    j_y = cat.justice_Y(justiceID)\n",
    "    j_ind = cat.isolate_justice(justiceID)\n",
    "    bias = index_outcome(j_y, 'direction', trainY.columns) # normalized lean (conservative | liberal) in this case\n",
    "    issue = np.array((cat.cat['issueArea'].values)[j_ind]) # IssueArea for the case\n",
    "    bias[np.where(bias == 2)] = -1 # Recode s.t. -1 ~ liberal, 0, nan, 1 ~ conservative\n",
    "    v = np.zeros(vecSize, dtype=float)\n",
    "    t = np.zeros(vecSize, dtype=float)\n",
    "    # Sum the total values\n",
    "    for i in range(bias.shape[0]):\n",
    "        v[issue[i]] = v[issue[i]] + bias[i]\n",
    "        t[issue[i]] = t[issue[i]] + 1\n",
    "\n",
    "    for i in range(vecSize):\n",
    "        if t[i] > 0:\n",
    "            v[i] = v[i] / t[i] # normalize by totals for each subject area\n",
    "    return v # v is then an \"ideology vector\" we may use to cluster justices\n",
    "\n",
    "\n",
    "n_areas = trainX_Cat.le['issueArea'].classes_.shape[0] #Total general issue areas\n",
    "x, y = np.unique(trainX_Cat.arr['justice'].values, return_index=True)\n",
    "j_ids = np.array(sorted([ [x, y] for (x, y) in zip(x,y)], key=lambda l: l[1]))[:, 0]\n",
    "# names = trainX_Cat.le['justiceName'].inverse_tranform(j_ids)\n",
    "justices = np.array([ideology_vector(trainX_Cat, i, n_areas) for i in j_ids])  \n",
    "\n",
    "#Add the continuous \"ideology\" vectors to the things\n",
    "norm_justices = justices\n",
    "for i in range(n_areas):\n",
    "    idealogy = {}\n",
    "    for j in j_ids:\n",
    "        idealogy[j] = justices[i]\n",
    "    c = \"%s%s%s\" % (col_title, \"d\", i)\n",
    "    trainX_Cat.add_feature(c, idealogy, categorical=False)\n",
    "    testX_Cat.add_feature(c, idealogy, categorical=False)\n",
    "\n",
    "#Add the idealogy vectors in\n",
    "\n",
    "x, y =  np.unique(testX_Cat.arr['justice'].values, return_index=True)\n",
    "j_ids = np.array(sorted([ [x, y] for (x, y) in zip(x,y)], key=lambda l: l[1]))[:, 0]\n",
    "justices_test = np.array([ideology_vector(testX_Cat, i, n_areas) for i in j_ids])  \n",
    "\n",
    "# j_with_names = {id_to_name[l]: vec for (l, vec) in zip(j_ids, justices)}\n",
    "    "
   ]
  },
  {
   "cell_type": "code",
   "execution_count": 35,
   "metadata": {
    "collapsed": false
   },
   "outputs": [
    {
     "name": "stdout",
     "output_type": "stream",
     "text": [
      "Index([u'caseId', u'docketId', u'caseIssuesId', u'voteId', u'usCite',\n",
      "       u'sctCite', u'ledCite', u'lexisCite', u'docket', u'caseName',\n",
      "       u'idealogyd0', u'idealogyd1', u'idealogyd2', u'idealogyd3',\n",
      "       u'idealogyd4', u'idealogyd5', u'idealogyd6', u'idealogyd7',\n",
      "       u'idealogyd8', u'idealogyd9', u'idealogyd10', u'idealogyd11',\n",
      "       u'idealogyd12', u'idealogyd13', u'idealogyd14'],\n",
      "      dtype='object')\n",
      "Index([u'caseId', u'docketId', u'caseIssuesId', u'voteId', u'usCite',\n",
      "       u'sctCite', u'ledCite', u'lexisCite', u'docket', u'caseName',\n",
      "       u'idealogyd0', u'idealogyd1', u'idealogyd2', u'idealogyd3',\n",
      "       u'idealogyd4', u'idealogyd5', u'idealogyd6', u'idealogyd7',\n",
      "       u'idealogyd8', u'idealogyd9', u'idealogyd10', u'idealogyd11',\n",
      "       u'idealogyd12', u'idealogyd13', u'idealogyd14'],\n",
      "      dtype='object')\n"
     ]
    }
   ],
   "source": [
    "print trainX_Cat.other.columns\n",
    "print testX_Cat.other.columns"
   ]
  },
  {
   "cell_type": "markdown",
   "metadata": {},
   "source": [
    "## Create 4 clusters "
   ]
  },
  {
   "cell_type": "code",
   "execution_count": 36,
   "metadata": {
    "collapsed": false
   },
   "outputs": [
    {
     "name": "stdout",
     "output_type": "stream",
     "text": [
      "['AFortas' 'AJGoldberg' 'AMKennedy' 'AScalia' 'BRWhite' 'CEWhittaker'\n",
      " 'CThomas' 'DHSouter' 'EKagan' 'EWarren' 'FFrankfurter' 'FMVinson'\n",
      " 'FMurphy' 'HABlackmun' 'HHBurton' 'HLBlack' 'JGRoberts' 'JHarlan2'\n",
      " 'JPStevens' 'LFPowell' 'PStewart' 'RBGinsburg' 'RHJackson' 'SAAlito'\n",
      " 'SDOConnor' 'SFReed' 'SGBreyer' 'SMinton' 'SSotomayor' 'TCClark'\n",
      " 'TMarshall' 'WBRutledge' 'WEBurger' 'WHRehnquist' 'WJBrennan' 'WODouglas']\n",
      "['AFortas' 'AJGoldberg' 'AMKennedy' 'AScalia' 'BRWhite' 'CEWhittaker'\n",
      " 'CThomas' 'DHSouter' 'EKagan' 'EWarren' 'FFrankfurter' 'FMVinson'\n",
      " 'FMurphy' 'HABlackmun' 'HHBurton' 'HLBlack' 'JGRoberts' 'JHarlan2'\n",
      " 'JPStevens' 'LFPowell' 'PStewart' 'RBGinsburg' 'RHJackson' 'SAAlito'\n",
      " 'SDOConnor' 'SFReed' 'SGBreyer' 'SMinton' 'SSotomayor' 'TCClark'\n",
      " 'TMarshall' 'WBRutledge' 'WEBurger' 'WHRehnquist' 'WJBrennan' 'WODouglas']\n"
     ]
    }
   ],
   "source": [
    "print trainX_names\n",
    "print testX_names"
   ]
  },
  {
   "cell_type": "code",
   "execution_count": 37,
   "metadata": {
    "collapsed": false
   },
   "outputs": [],
   "source": [
    "#The center-of-mass for the KMeans on the training dataset\n",
    "inVec = np.array([[ -0.0244026806527, -0.0558264238058, -0.156417287945, -0.10066429494,\n",
    "          -0.323551771618, -0.069625587029, -0.469631185808, -0.0907648163676, \n",
    "          -0.029025230359, 0.189929474252, -0.177569697334, 0.0, \n",
    "          -0.365343893194, -0.0555555555556, 0.0],\n",
    "        [ -0.0133333333333, 0.401859299291, 0.203832291671, 0.261568177981,\n",
    "         0.00348673717842, 0.67353353677, 0.233316362621, 0.141628144099,\n",
    "         0.00683037700267, 0.341179056921, -0.0814992234008, 0.0,\n",
    "         -0.392486004103, 0.0327272727273, 0.0],\n",
    "        [ 0.0, -0.59649122807, -0.521739130435, -0.233333333333, -0.5, \n",
    "         1.0, 0.0, -0.5, -0.674418604651, \n",
    "         -0.216216216216, -0.15, 0.0, -0.777777777778, 0.0, 0.0],\n",
    "        [ -0.0330782312925, -0.561335380182, -0.663705854674, -0.653772178576, \n",
    "         -0.634776987879, -0.333354629866, -0.633753229974, -0.31285542346, \n",
    "         -0.474041195724, 0.111838370646, -0.321520788452, 0.0, -0.342243821897, 0.0, 0.0]])\n",
    "\n",
    "\n",
    "\n",
    "def idealogy_labels(justices):\n",
    "    km = KMeans(n_clusters=4, init=inVec, n_init= 1, random_state=0).fit(justices)\n",
    "#     km = KMeans(n_clusters=4, random_state=0).fit(justices)\n",
    "\n",
    "    # colors = np.where(kmeans.labels_ == 1, 'b', 'g')\n",
    "    labels = km.labels_\n",
    "    n = labels.shape\n",
    "    colors = np.empty(n, dtype=str)\n",
    "    for i in range(n[0]): \n",
    "        if labels[i] == 0:\n",
    "            colors[i] = 'g'\n",
    "        elif labels[i] == 1:\n",
    "            colors[i] = 'b'\n",
    "        elif labels[i] == 2:\n",
    "            colors[i] = 'r'\n",
    "        else:\n",
    "            colors[i] = 'm'\n",
    "    return colors, labels\n",
    "\n",
    "colors, labels = idealogy_labels(justices)\n",
    "colors_test, labels_test = idealogy_labels(justices_test)"
   ]
  },
  {
   "cell_type": "markdown",
   "metadata": {},
   "source": [
    "## Project onto top 2 principal components"
   ]
  },
  {
   "cell_type": "code",
   "execution_count": 38,
   "metadata": {
    "collapsed": false,
    "scrolled": false
   },
   "outputs": [
    {
     "name": "stdout",
     "output_type": "stream",
     "text": [
      "(36, 15)\n"
     ]
    },
    {
     "data": {
      "image/png": "[encoded data removed]",
      "text/plain": [
       "<matplotlib.figure.Figure at 0x7f0f0ae43cd0>"
      ]
     },
     "metadata": {},
     "output_type": "display_data"
    },
    {
     "name": "stdout",
     "output_type": "stream",
     "text": [
      "Adding bias\n",
      "(36, 15)\n"
     ]
    },
    {
     "data": {
      "image/png": "[encoded data removed]",
      "text/plain": [
       "<matplotlib.figure.Figure at 0x7f0eff029b10>"
      ]
     },
     "metadata": {},
     "output_type": "display_data"
    }
   ],
   "source": [
    "from sklearn.decomposition import PCA\n",
    "#Toggle Values\n",
    "col_title = \"bias\"\n",
    "display = False\n",
    "def idealogy_cluster(df, justices, colors, labels, names, name_to_id, id_to_name, test=True):\n",
    "    pca = PCA()\n",
    "    print justices.shape\n",
    "    pca.fit(justices)\n",
    "    justices_pca = pca.transform(justices)\n",
    "    plt.scatter(justices_pca[:,0], justices_pca[:, 1], c=colors)\n",
    "    plt.xlabel('First Principal Component')\n",
    "    plt.ylabel('Second Principal Component')\n",
    "    plt.title('Justices Clustered by Political Bent over 14 issue areas (+1 dim other)')\n",
    "    plt.show()\n",
    "    #Print out labels\n",
    "    vals = sorted(zip(names, justices_pca, labels), key= lambda x: x[2])\n",
    "    if display:\n",
    "        print \"Justices sorted by label type (based on political inclination)\"\n",
    "    #create a label: justice dictionary \n",
    "    groups = {}\n",
    "    for name, val, l in vals:\n",
    "        if l in groups:\n",
    "            groups[l].append(name_to_id[name])\n",
    "        else:\n",
    "            groups[l] = []\n",
    "            groups[l].append(name_to_id[name])\n",
    "        if display:\n",
    "            print \"Justice {0: <12}:\\t{1: 0.2f},\\t{2:.2f}\\tLabel {3}\".format(name, val[0], val[1], l)\n",
    "    # Create a justice: label dictionary\n",
    "    bias = {}\n",
    "    for key, val in groups.items():\n",
    "        for j in val:\n",
    "            bias[j] = key    \n",
    "    if col_title not in df.arr.columns and not test:\n",
    "        print \"Adding {0}\".format(col_title)\n",
    "        df.add_feature(col_title, bias)\n",
    "    return col_title, bias\n",
    "col_title, bias = idealogy_cluster(trainX_Cat, justices, colors, labels, trainX_names, name_to_id, id_to_name, test=False)\n",
    "idealogy_cluster(testX_Cat, justices_test, colors_test, \n",
    "                 labels_test, testX_names, name_to_id_test, id_to_name_test)\n",
    "if col_title not in testX_Cat.arr.columns:\n",
    "    testX_Cat.add_feature(col_title, bias)"
   ]
  },
  {
   "cell_type": "markdown",
   "metadata": {},
   "source": [
    "## Time to Predict!"
   ]
  },
  {
   "cell_type": "code",
   "execution_count": 39,
   "metadata": {
    "collapsed": false
   },
   "outputs": [],
   "source": [
    "from sklearn.linear_model import RandomizedLasso, RandomizedLogisticRegression\n",
    "from sklearn.ensemble import RandomForestClassifier"
   ]
  },
  {
   "cell_type": "code",
   "execution_count": 40,
   "metadata": {
    "collapsed": false
   },
   "outputs": [],
   "source": [
    "# #Doesn't work..\n",
    "# rlasso = RandomizedLasso(sample_fraction=0.5, verbose=True)\n",
    "# rlasso.fit(testX_Cat.feature_array(), testX_Cat.label_array())\n",
    "# print rlasso.scores_"
   ]
  },
  {
   "cell_type": "code",
   "execution_count": 41,
   "metadata": {
    "collapsed": false
   },
   "outputs": [],
   "source": [
    "# print np.sum(rlasso.scores_)\n",
    "# print len(rlasso.scores_)\n",
    "# for i in range(len(rlasso.scores_)):\n",
    "#     if rlasso.scores_[i] > 0:\n",
    "#         print i"
   ]
  },
  {
   "cell_type": "code",
   "execution_count": 42,
   "metadata": {
    "collapsed": false
   },
   "outputs": [
    {
     "name": "stderr",
     "output_type": "stream",
     "text": [
      "[Parallel(n_jobs=-1)]: Done  34 tasks      | elapsed:   21.1s\n",
      "[Parallel(n_jobs=-1)]: Done 100 out of 100 | elapsed:   55.3s finished\n"
     ]
    }
   ],
   "source": [
    "rfc = RandomForestClassifier(verbose=True, n_estimators=100,n_jobs=-1 )\n",
    "rfc = rfc.fit(trainX_Cat.feature_array(), trainX_Cat.label_array())"
   ]
  },
  {
   "cell_type": "code",
   "execution_count": 43,
   "metadata": {
    "collapsed": false
   },
   "outputs": [
    {
     "name": "stdout",
     "output_type": "stream",
     "text": [
      "(7415, 1341)\n",
      "(70674, 2555)\n"
     ]
    }
   ],
   "source": [
    "print testX_Cat.feature_array().shape\n",
    "print trainX_Cat.feature_array().shape"
   ]
  },
  {
   "cell_type": "code",
   "execution_count": 44,
   "metadata": {
    "collapsed": false
   },
   "outputs": [
    {
     "ename": "ValueError",
     "evalue": "Number of features of the model must match the input. Model n_features is 2555 and input n_features is 1341 ",
     "output_type": "error",
     "traceback": [
      "\u001b[0;31m---------------------------------------------------------------------------\u001b[0m",
      "\u001b[0;31mValueError\u001b[0m                                Traceback (most recent call last)",
      "\u001b[0;32m<ipython-input-44-65176a324cdb>\u001b[0m in \u001b[0;36m<module>\u001b[0;34m()\u001b[0m\n\u001b[0;32m----> 1\u001b[0;31m \u001b[0mrfc\u001b[0m\u001b[0;34m.\u001b[0m\u001b[0mscore\u001b[0m\u001b[0;34m(\u001b[0m\u001b[0mtestX_Cat\u001b[0m\u001b[0;34m.\u001b[0m\u001b[0mfeature_array\u001b[0m\u001b[0;34m(\u001b[0m\u001b[0;34m)\u001b[0m\u001b[0;34m,\u001b[0m \u001b[0mtestX_Cat\u001b[0m\u001b[0;34m.\u001b[0m\u001b[0mlabel_array\u001b[0m\u001b[0;34m(\u001b[0m\u001b[0;34m)\u001b[0m\u001b[0;34m)\u001b[0m\u001b[0;34m\u001b[0m\u001b[0m\n\u001b[0m",
      "\u001b[0;32m/home/whinthorn/anaconda2/lib/python2.7/site-packages/sklearn/base.pyc\u001b[0m in \u001b[0;36mscore\u001b[0;34m(self, X, y, sample_weight)\u001b[0m\n\u001b[1;32m    347\u001b[0m         \"\"\"\n\u001b[1;32m    348\u001b[0m         \u001b[0;32mfrom\u001b[0m \u001b[0;34m.\u001b[0m\u001b[0mmetrics\u001b[0m \u001b[0;32mimport\u001b[0m \u001b[0maccuracy_score\u001b[0m\u001b[0;34m\u001b[0m\u001b[0m\n\u001b[0;32m--> 349\u001b[0;31m         \u001b[0;32mreturn\u001b[0m \u001b[0maccuracy_score\u001b[0m\u001b[0;34m(\u001b[0m\u001b[0my\u001b[0m\u001b[0;34m,\u001b[0m \u001b[0mself\u001b[0m\u001b[0;34m.\u001b[0m\u001b[0mpredict\u001b[0m\u001b[0;34m(\u001b[0m\u001b[0mX\u001b[0m\u001b[0;34m)\u001b[0m\u001b[0;34m,\u001b[0m \u001b[0msample_weight\u001b[0m\u001b[0;34m=\u001b[0m\u001b[0msample_weight\u001b[0m\u001b[0;34m)\u001b[0m\u001b[0;34m\u001b[0m\u001b[0m\n\u001b[0m\u001b[1;32m    350\u001b[0m \u001b[0;34m\u001b[0m\u001b[0m\n\u001b[1;32m    351\u001b[0m \u001b[0;34m\u001b[0m\u001b[0m\n",
      "\u001b[0;32m/home/whinthorn/anaconda2/lib/python2.7/site-packages/sklearn/ensemble/forest.pyc\u001b[0m in \u001b[0;36mpredict\u001b[0;34m(self, X)\u001b[0m\n\u001b[1;32m    532\u001b[0m             \u001b[0mThe\u001b[0m \u001b[0mpredicted\u001b[0m \u001b[0mclasses\u001b[0m\u001b[0;34m.\u001b[0m\u001b[0;34m\u001b[0m\u001b[0m\n\u001b[1;32m    533\u001b[0m         \"\"\"\n\u001b[0;32m--> 534\u001b[0;31m         \u001b[0mproba\u001b[0m \u001b[0;34m=\u001b[0m \u001b[0mself\u001b[0m\u001b[0;34m.\u001b[0m\u001b[0mpredict_proba\u001b[0m\u001b[0;34m(\u001b[0m\u001b[0mX\u001b[0m\u001b[0;34m)\u001b[0m\u001b[0;34m\u001b[0m\u001b[0m\n\u001b[0m\u001b[1;32m    535\u001b[0m \u001b[0;34m\u001b[0m\u001b[0m\n\u001b[1;32m    536\u001b[0m         \u001b[0;32mif\u001b[0m \u001b[0mself\u001b[0m\u001b[0;34m.\u001b[0m\u001b[0mn_outputs_\u001b[0m \u001b[0;34m==\u001b[0m \u001b[0;36m1\u001b[0m\u001b[0;34m:\u001b[0m\u001b[0;34m\u001b[0m\u001b[0m\n",
      "\u001b[0;32m/home/whinthorn/anaconda2/lib/python2.7/site-packages/sklearn/ensemble/forest.pyc\u001b[0m in \u001b[0;36mpredict_proba\u001b[0;34m(self, X)\u001b[0m\n\u001b[1;32m    571\u001b[0m         \"\"\"\n\u001b[1;32m    572\u001b[0m         \u001b[0;31m# Check data\u001b[0m\u001b[0;34m\u001b[0m\u001b[0;34m\u001b[0m\u001b[0m\n\u001b[0;32m--> 573\u001b[0;31m         \u001b[0mX\u001b[0m \u001b[0;34m=\u001b[0m \u001b[0mself\u001b[0m\u001b[0;34m.\u001b[0m\u001b[0m_validate_X_predict\u001b[0m\u001b[0;34m(\u001b[0m\u001b[0mX\u001b[0m\u001b[0;34m)\u001b[0m\u001b[0;34m\u001b[0m\u001b[0m\n\u001b[0m\u001b[1;32m    574\u001b[0m \u001b[0;34m\u001b[0m\u001b[0m\n\u001b[1;32m    575\u001b[0m         \u001b[0;31m# Assign chunk of trees to jobs\u001b[0m\u001b[0;34m\u001b[0m\u001b[0;34m\u001b[0m\u001b[0m\n",
      "\u001b[0;32m/home/whinthorn/anaconda2/lib/python2.7/site-packages/sklearn/ensemble/forest.pyc\u001b[0m in \u001b[0;36m_validate_X_predict\u001b[0;34m(self, X)\u001b[0m\n\u001b[1;32m    353\u001b[0m                                  \"call `fit` before exploiting the model.\")\n\u001b[1;32m    354\u001b[0m \u001b[0;34m\u001b[0m\u001b[0m\n\u001b[0;32m--> 355\u001b[0;31m         \u001b[0;32mreturn\u001b[0m \u001b[0mself\u001b[0m\u001b[0;34m.\u001b[0m\u001b[0mestimators_\u001b[0m\u001b[0;34m[\u001b[0m\u001b[0;36m0\u001b[0m\u001b[0;34m]\u001b[0m\u001b[0;34m.\u001b[0m\u001b[0m_validate_X_predict\u001b[0m\u001b[0;34m(\u001b[0m\u001b[0mX\u001b[0m\u001b[0;34m,\u001b[0m \u001b[0mcheck_input\u001b[0m\u001b[0;34m=\u001b[0m\u001b[0mTrue\u001b[0m\u001b[0;34m)\u001b[0m\u001b[0;34m\u001b[0m\u001b[0m\n\u001b[0m\u001b[1;32m    356\u001b[0m \u001b[0;34m\u001b[0m\u001b[0m\n\u001b[1;32m    357\u001b[0m     \u001b[0;34m@\u001b[0m\u001b[0mproperty\u001b[0m\u001b[0;34m\u001b[0m\u001b[0m\n",
      "\u001b[0;32m/home/whinthorn/anaconda2/lib/python2.7/site-packages/sklearn/tree/tree.pyc\u001b[0m in \u001b[0;36m_validate_X_predict\u001b[0;34m(self, X, check_input)\u001b[0m\n\u001b[1;32m    374\u001b[0m                              \u001b[0;34m\"match the input. Model n_features is %s and \"\u001b[0m\u001b[0;34m\u001b[0m\u001b[0m\n\u001b[1;32m    375\u001b[0m                              \u001b[0;34m\"input n_features is %s \"\u001b[0m\u001b[0;34m\u001b[0m\u001b[0m\n\u001b[0;32m--> 376\u001b[0;31m                              % (self.n_features_, n_features))\n\u001b[0m\u001b[1;32m    377\u001b[0m \u001b[0;34m\u001b[0m\u001b[0m\n\u001b[1;32m    378\u001b[0m         \u001b[0;32mreturn\u001b[0m \u001b[0mX\u001b[0m\u001b[0;34m\u001b[0m\u001b[0m\n",
      "\u001b[0;31mValueError\u001b[0m: Number of features of the model must match the input. Model n_features is 2555 and input n_features is 1341 "
     ]
    }
   ],
   "source": [
    "rfc.score(testX_Cat.feature_array(), testX_Cat.label_array())"
   ]
  },
  {
   "cell_type": "markdown",
   "metadata": {},
   "source": [
    "## Working Outline\n",
    "\n",
    "* In progress...\n",
    "\n",
    "The lack of data would indicate that an rnn may not be a particularly appropriate model for this task; however it would be fun to try in order to see how the sequence of issues or the long-term trends of a justice come into play for future decisions. \n",
    "\n",
    "### Workflow:\n",
    "\n",
    "#### Data Preparation:\n",
    "\n",
    "Impute values -> maybe categorize nan's as -1, etc. (There are no negative values here)\n",
    "\n",
    "OHE categorical variables\n",
    "\n",
    "Drop the justiceName column -> all information is in 'justice'\n",
    "\n",
    "\n",
    "#### RNN"
   ]
  }
 ],
 "metadata": {
  "kernelspec": {
   "display_name": "Python 2",
   "language": "python",
   "name": "python2"
  },
  "language_info": {
   "codemirror_mode": {
    "name": "ipython",
    "version": 2
   },
   "file_extension": ".py",
   "mimetype": "text/x-python",
   "name": "python",
   "nbconvert_exporter": "python",
   "pygments_lexer": "ipython2",
   "version": "2.7.13"
  }
 },
 "nbformat": 4,
 "nbformat_minor": 2
}
