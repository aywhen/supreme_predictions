{
 "cells": [
  {
   "cell_type": "code",
   "execution_count": 80,
   "metadata": {
    "collapsed": true
   },
   "outputs": [],
   "source": [
    "import numpy as np\n",
    "import pandas as pd\n",
    "import math\n",
    "from datetime import datetime\n",
    "import matplotlib.pyplot as plt"
   ]
  },
  {
   "cell_type": "markdown",
   "metadata": {},
   "source": [
    "### Load Justice-centered data into pandas df"
   ]
  },
  {
   "cell_type": "code",
   "execution_count": 347,
   "metadata": {
    "collapsed": true
   },
   "outputs": [],
   "source": [
    "trainX = pd.read_csv('../data/trainX_justice.csv')\n",
    "trainY = pd.read_csv('../data/trainY_justice.csv')\n",
    "testX = pd.read_csv('../data/testX_justice.csv')\n",
    "testY = pd.read_csv('../data/testY_justice.csv')"
   ]
  },
  {
   "cell_type": "markdown",
   "metadata": {},
   "source": [
    "### Variables (from preprocessing)"
   ]
  },
  {
   "cell_type": "code",
   "execution_count": 348,
   "metadata": {
    "collapsed": true
   },
   "outputs": [],
   "source": [
    "# column names by category\n",
    "id_variables_to_drop = [\n",
    "    u'justiceName', #Name and unique ID\n",
    "    ]\n",
    "id_variables_to_keep = [\n",
    "    u'justice',  #Name and unique ID\n",
    "    u'caseId', u'docketId', u'caseIssuesId', u'voteId',\n",
    "    u'usCite', u'sctCite', u'ledCite', u'lexisCite',\n",
    "    u'docket']\n",
    "    \n",
    "bg_variables = [\n",
    "    u'caseName', u'petitioner', u'petitionerState',\n",
    "    u'respondent', u'respondentState', u'jurisdiction',\n",
    "    u'adminAction', u'adminActionState', u'threeJudgeFdc',\n",
    "    u'caseOrigin', u'caseOriginState', u'caseSource',\n",
    "    u'caseSourceState', u'lcDisagreement', u'certReason',\n",
    "    u'lcDisposition', u'lcDispositionDirection',\n",
    "]\n",
    "\n",
    "chrono_include = [u'naturalCourt', u'chief']\n",
    "chrono_donotinclude = [u'dateDecision', u'decisionType', u'term',\n",
    "                       u'dateArgument', u'dateRearg']\n",
    "chrono_variables = chrono_include + chrono_donotinclude\n",
    "\n",
    "substantive_variables = [\n",
    "    u'issue', u'issueArea', u'decisionDirection',\n",
    "    u'decisionDirectionDissent', u'authorityDecision1',\n",
    "    u'authorityDecision2', u'lawType', u'lawSupp', u'lawMinor']\n",
    "\n",
    "outcome_variables = [\n",
    "    u'declarationUncon', u'caseDisposition',\n",
    "    u'caseDispositionUnusual', u'partyWinning', u'precedentAlteration',  \n",
    "    u'firstAgreement', u'secondAgreement']\n",
    "\n",
    "voting_variables = [u'voteUnclear', u'majOpinWriter', u'majOpinAssigner',\n",
    "                    u'splitVote', u'majVotes', u'minVotes',  u'vote', u'opinion',\n",
    "                    u'direction', u'majority']\n"
   ]
  },
  {
   "cell_type": "markdown",
   "metadata": {},
   "source": [
    "## Decide on outcome vector"
   ]
  },
  {
   "cell_type": "markdown",
   "metadata": {},
   "source": [
    "## One-hot encode select categorical variables\n",
    "#### + impute nulls"
   ]
  },
  {
   "cell_type": "code",
   "execution_count": 581,
   "metadata": {
    "collapsed": false
   },
   "outputs": [],
   "source": [
    "from sklearn.preprocessing import OneHotEncoder, LabelEncoder\n",
    "from scipy.sparse import csr_matrix, hstack\n",
    "\n",
    "class Categorical(object):\n",
    "    def __init__(self, df, outcomes, ohe_threshold = 1000):\n",
    "        self.names = df['justiceName']\n",
    "        #Drop name vector (redundant)\n",
    "        self.arr = df[id_variables_to_keep + bg_variables + chrono_include + substantive_variables].copy()\n",
    "        self.arr = self.arr.fillna(-1) # Impute values\n",
    "        self.outcomes = outcomes.copy()\n",
    "        self.outcomes = self.outcomes.fillna(-1) #Impute values\n",
    "        # Select the categorical features to OHE\n",
    "        ohe_vars = []\n",
    "        other_vars = []\n",
    "        for c in self.arr.columns:\n",
    "            u =  len(self.arr[c].unique())\n",
    "            if u < ohe_threshold:\n",
    "#                 prZint \"{0}: {1} unique\".format(c, len(self.arr[c].unique()))\n",
    "                ohe_vars.append(c)\n",
    "            else:\n",
    "                other_vars.append(c)\n",
    "        \n",
    "        self.n_samples, self.n_features = self.arr.shape\n",
    "        self.n_cat_features = len(ohe_vars)\n",
    "        self.ohe_vars = ohe_vars\n",
    "        self.other_vars = other_vars\n",
    "        self.arr = pd.concat([self.arr[other_vars], self.arr[ohe_vars]], axis=1)\n",
    "        self.columns = other_vars + ohe_vars\n",
    "        #Label Encode select categorical variables\n",
    "        self.LE()\n",
    "        self.other = self.arr[other_vars].copy() #ID and other features\n",
    "        self.cat = self.arr[ohe_vars].copy() #Categorical features\n",
    "        self.cat_ohe = self.cat.copy() #OHE categorical features\n",
    "        self.n_justices = len(self.cat['justice'].unique())\n",
    "        #Label Encode the outcome variables\n",
    "        self.LE_Outcomes()\n",
    "        #OHE the categorical data\n",
    "        self.OHE()\n",
    "        \n",
    "        \n",
    "    def LE(self):\n",
    "        '''Label Encode ALL variables (to give reasonable feautures) '''  \n",
    "        le = {}  #keep le global so we may inverse_transform if necessary\n",
    "        for c in self.columns: #self.ohe_vars: #text_cols:\n",
    "            le[c] = LabelEncoder()\n",
    "            self.arr.loc[:,c] = le[c].fit_transform(self.arr[c])\n",
    "        self.le = le # label encoder (useful for reverse transforming also)\n",
    "        \n",
    "    def LE_Outcomes(self):\n",
    "        le = {}\n",
    "        for c in self.outcomes.columns:\n",
    "            le[c] = LabelEncoder()\n",
    "            self.outcomes.loc[:,c] = le[c].fit_transform(self.outcomes[c])\n",
    "                \n",
    "        self.le_out = le\n",
    "        \n",
    "    def OHE(self):\n",
    "        self.ohe = OneHotEncoder()\n",
    "        self.ohe.fit(self.cat)\n",
    "        self.cat_ohe =  self.ohe.transform(self.cat) \n",
    "    \n",
    "    \n",
    "    def orig_cat(self): # Not important since I cache the values, but keep for possible future functions\n",
    "        '''Returns the original array of the OHE encoded csr array\n",
    "            (requires the original one-hot encoder fit to the dataset) '''\n",
    "        return np.array([self.ohe.active_features_[col] for col in \n",
    "                            self.cat.sorted_indices().indices]).reshape(self.n_samples, self.n_cat_features) \\\n",
    "                                - self.ohe.feature_indices_[:-1]\n",
    "        \n",
    "    def getValue(self, col):\n",
    "        '''Return the original value for the label-encoded variable'''\n",
    "        if col not in self.columns:#self.ohe_vars:\n",
    "            return None\n",
    "        le = self.le[self.columns.index(col)]\n",
    "        return le.inverse_transform(self.cat[col])\n",
    "\n",
    "    def isolate_justice(self, ID, deep=False, ind=True):\n",
    "        '''Return sparse array for data for a single justice '''\n",
    "        \n",
    "        #Check if ID is a legal label-encodded justice id\n",
    "        if ID < 0 or ID >= self.n_justices:\n",
    "            print \"Error: Not a legal justice ID\"\n",
    "            return None\n",
    "        \n",
    "        if ind:\n",
    "            return self.cat.loc[self.cat['justice'] == ID].index\n",
    "        elif deep:\n",
    "            return self.cat.loc[self.cat['justice'] == ID].copy()\n",
    "        else:\n",
    "            return self.cat.loc[self.cat['justice'] == ID]\n",
    "        \n",
    "    def merge_Xmatrices(self, rows):\n",
    "        return hstack((csr_matrix(self.other.values[rows,:]), self.cat_ohe[rows,:]))\n",
    "    \n",
    "    \n",
    "    def justice_X(self, ID):\n",
    "        return self.merge_Xmatrices(rows=self.isolate_justice(ID))\n",
    "    \n",
    "    def justice_Y(self, ID):\n",
    "        return self.outcomes.values[self.isolate_justice(ID), :]\n",
    "    def add_feature(self, name, d, categorical=True):\n",
    "        '''Takes as input a dictionary of (justiceId: value) pairs. '''\n",
    "        typ = type(d.values()[0]) # Try to guess dtype (not really necessary in this sandbox, but hey)\n",
    "        col = np.zeros(self.arr.shape[0], dtype=typ)\n",
    "        print \"COL SHAPE\"\n",
    "        print col.shape\n",
    "        for j, val in d.items():\n",
    "            indices = self.isolate_justice(j)\n",
    "            print \"{0} len = {1}\".format(j, len(indices))\n",
    "            col[indices] = val\n",
    "        if name in self.le:\n",
    "            print \"Header Name already in use. Aborting.\"\n",
    "            return None\n",
    "        \n",
    "        self.le[name] = LabelEncoder()\n",
    "        col = self.le[name].fit_transform(col)\n",
    "        \n",
    "        #Append to arr, cat\n",
    "        col = pd.DataFrame({name: col})\n",
    "        print np.unique(col.values)\n",
    "#         self.arr = pd.concat((self.arr, np.expand_dims(col, axis=1)), join_axes=1)\n",
    "        self.arr = pd.concat((self.arr, col))\n",
    "        if categorical:\n",
    "#             self.cat = np.concatenate((self.cat, np.expand_dims(col, axis=1)), axis=1)\n",
    "            print self.cat.shape\n",
    "            self.cat = pd.concat((self.cat, col))\n",
    "            print self.cat.shape\n",
    "            print np.unique(self.cat.values)\n",
    "            self.OHE() # Must re-OHE (Not too expensive in general)\n",
    "        \n",
    "def index_outcome(arr, col, columns):\n",
    "    return arr[:, list(columns).index(col)]\n",
    "        "
   ]
  },
  {
   "cell_type": "markdown",
   "metadata": {},
   "source": [
    "## Create a categorical object"
   ]
  },
  {
   "cell_type": "code",
   "execution_count": 582,
   "metadata": {
    "collapsed": false,
    "scrolled": true
   },
   "outputs": [],
   "source": [
    "trainX_Cat = Categorical(df = trainX, outcomes = trainY)"
   ]
  },
  {
   "cell_type": "markdown",
   "metadata": {},
   "source": [
    "## Cluster justices into 2 groups based on likelihood to side with majority"
   ]
  },
  {
   "cell_type": "code",
   "execution_count": 523,
   "metadata": {
    "collapsed": true
   },
   "outputs": [],
   "source": [
    "from sklearn.cluster import KMeans"
   ]
  },
  {
   "cell_type": "code",
   "execution_count": 524,
   "metadata": {
    "collapsed": false
   },
   "outputs": [
    {
     "data": {
      "image/png": "[encoded data removed]",
      "text/plain": [
       "<matplotlib.figure.Figure at 0x7f9c59d5ef50>"
      ]
     },
     "metadata": {},
     "output_type": "display_data"
    },
    {
     "name": "stdout",
     "output_type": "stream",
     "text": [
      "\n",
      "Green (relatively more frequently side with majority):\n",
      "EKagan WHRehnqu WEBurger WBRutled TMarshal TCClark SSotomay SMinton SGBreyer SFReed AJGoldbe RBGinsbu RHJackso DHSouter PStewart JPSteven JGRobert HLBlack FMVinson FFrankfu EWarren SAAlito JHarlan2 \n",
      "\n",
      "Blue (relatively more likely to vote minority):\n",
      "AFortas SDOConno LFPowell WJBrenna HHBurton HABlackm FMurphy WODougla CThomas CEWhitta BRWhite AScalia AMKenned\n"
     ]
    }
   ],
   "source": [
    "def maj_min_norm(cat, justiceID):\n",
    "    '''Return 2D vector representation where dim_0 is the percent time \n",
    "        voting with majority and dim_1 is percent voting with minority'''\n",
    "    j = cat.justice_Y(justiceID)\n",
    "    maj_min = index_outcome(j,'majority', trainY.columns)\n",
    "#     print np.unique(maj_min)\n",
    "    n = maj_min.shape[0]\n",
    "    total = np.sum(maj_min == 2)\n",
    "    return [float(total)/n, float(n-total)/n]\n",
    "    \n",
    "\n",
    "justices = np.array([maj_min_norm(trainX_Cat, i) for i in np.unique(trainX_Cat.arr['justice'].values)])\n",
    "\n",
    "kmeans = KMeans(n_clusters=2, random_state=0).fit(justices)\n",
    "colors = np.where(kmeans.labels_ == 1, 'b', 'g')\n",
    "# Group by \n",
    "names =  np.unique(trainX_id['justiceName'])\n",
    "groups = np.array([[n, 1] if c else [n, 0] for (c, n) in zip(kmeans.labels_ == 1,names)])\n",
    "groups =  groups[groups[:, 1].argsort()]\n",
    "\n",
    "n_0 = np.sum(groups[:, 1] == '0')\n",
    "n_1 = np.sum(groups[:, 1] == '1')\n",
    "minor = np.empty((n_0, 2), dtype=('string', float))\n",
    "major = np.empty((n_1, 2), dtype=('string', float))\n",
    "\n",
    "j =  k = 0\n",
    "for i in range(groups.shape[0]):\n",
    "    if groups[i, 1] == '0':\n",
    "        minor[j] = groups[i]\n",
    "        j = j + 1\n",
    "    elif groups[i, 1] == '1':\n",
    "        major[k] = groups[i]\n",
    "        k = k + 1\n",
    "    \n",
    "\n",
    "plt.scatter(justices[:, 0], justices[:, 1], c=colors)\n",
    "plt.title('Justices by agreement')\n",
    "plt.xlabel('Percent Time Agree with Majority')\n",
    "plt.ylabel('Percent Time Agree with Minority')\n",
    "plt.show()\n",
    "\n",
    "print \"\\nGreen (relatively more frequently side with majority):\"\n",
    "for name, label in zip(major[:,0], major[:,1]):\n",
    "    print name,\n",
    "print \"\\n\\nBlue (relatively more likely to vote minority):\"\n",
    "for name, label in zip(minor[:,0], minor[:,1]):\n",
    "    print name,"
   ]
  },
  {
   "cell_type": "code",
   "execution_count": 525,
   "metadata": {
    "collapsed": false
   },
   "outputs": [
    {
     "ename": "NameError",
     "evalue": "name 'majmin_' is not defined",
     "output_type": "error",
     "traceback": [
      "\u001b[0;31m---------------------------------------------------------------------------\u001b[0m",
      "\u001b[0;31mNameError\u001b[0m                                 Traceback (most recent call last)",
      "\u001b[0;32m<ipython-input-525-badabc3bbf0a>\u001b[0m in \u001b[0;36m<module>\u001b[0;34m()\u001b[0m\n\u001b[0;32m----> 1\u001b[0;31m \u001b[0mmajmin_\u001b[0m\u001b[0;34m\u001b[0m\u001b[0m\n\u001b[0m",
      "\u001b[0;31mNameError\u001b[0m: name 'majmin_' is not defined"
     ]
    }
   ],
   "source": [
    "majmin_"
   ]
  },
  {
   "cell_type": "code",
   "execution_count": 564,
   "metadata": {
    "collapsed": false
   },
   "outputs": [
    {
     "data": {
      "text/plain": [
       "array([[  7, 126,   0, ..., 173, 519,   1],\n",
       "       [  5, 126,   0, ..., 173, 519,   1],\n",
       "       [  3, 126,   0, ..., 173, 519,   3],\n",
       "       ..., \n",
       "       [ 33, 135,   0, ..., 158,   0,   1],\n",
       "       [ 34, 135,   0, ..., 158,   0,   3],\n",
       "       [ 35, 135,   0, ..., 158,   0,   1]])"
      ]
     },
     "execution_count": 564,
     "metadata": {},
     "output_type": "execute_result"
    }
   ],
   "source": []
  },
  {
   "cell_type": "markdown",
   "metadata": {},
   "source": [
    "## Now what\n",
    "\n",
    "Cluster based on issues?"
   ]
  },
  {
   "cell_type": "code",
   "execution_count": 549,
   "metadata": {
    "collapsed": false
   },
   "outputs": [],
   "source": [
    "# Create a dictionary to easily get name\n",
    "name_to_id = { name: l for (name, l) in zip(trainX_Cat.names.unique(), trainX_Cat.arr['justice'].unique())}\n",
    "id_to_name = { l: name for (name, l) in zip(trainX_Cat.names.unique(), trainX_Cat.arr['justice'].unique())}\n",
    "def ideology_vector(cat, justiceID, vecSize):\n",
    "    j_y = cat.justice_Y(justiceID)\n",
    "    j_ind = cat.isolate_justice(justiceID)\n",
    "    bias = index_outcome(j_y, 'direction', trainY.columns) # normalized lean (conservative | liberal) in this case\n",
    "    issue = np.array((cat.cat['issueArea'].values)[j_ind]) # IssueArea for the case\n",
    "    bias[np.where(bias == 2)] = -1 # Recode s.t. -1 ~ liberal, 0, nan, 1 ~ conservative\n",
    "    v = np.zeros(vecSize, dtype=float)\n",
    "    t = np.zeros(vecSize, dtype=float)\n",
    "    # Sum the total values\n",
    "    for i in range(bias.shape[0]):\n",
    "        v[issue[i]] = v[issue[i]] + bias[i]\n",
    "        t[issue[i]] = t[issue[i]] + 1\n",
    "\n",
    "    for i in range(vecSize):\n",
    "        if t[i] > 0:\n",
    "            v[i] = v[i] / t[i] # normalize by totals for each subject area\n",
    "    return v # v is then an \"ideology vector\" we may use to cluster justices\n",
    "\n",
    "\n",
    "n_areas = trainX_Cat.le['issueArea'].classes_.shape[0] #Total general issue areas\n",
    "j_ids = np.unique(trainX_Cat.arr['justice'].values)\n",
    "# names = trainX_Cat.le['justiceName'].inverse_tranform(j_ids)\n",
    "justices = np.array([ideology_vector(trainX_Cat, i, n_areas) for i in j_ids])  \n",
    "j_with_names = {id_to_name[l]: vec for (l, vec) in zip(j_ids, justices)}\n",
    "    "
   ]
  },
  {
   "cell_type": "markdown",
   "metadata": {},
   "source": [
    "## Create 4 clusters "
   ]
  },
  {
   "cell_type": "code",
   "execution_count": 550,
   "metadata": {
    "collapsed": false
   },
   "outputs": [],
   "source": [
    "km = KMeans(n_clusters=4, random_state=0).fit(justices)\n",
    "# colors = np.where(kmeans.labels_ == 1, 'b', 'g')\n",
    "labels = km.labels_\n",
    "n = labels.shape\n",
    "colors = np.empty(n, dtype=str)\n",
    "for i in range(n[0]): \n",
    "    if labels[i] == 0:\n",
    "        colors[i] = 'g'\n",
    "    elif labels[i] == 1:\n",
    "        colors[i] = 'b'\n",
    "    elif labels[i] == 2:\n",
    "        colors[i] = 'r'\n",
    "    else:\n",
    "        colors[i] = 'm'\n"
   ]
  },
  {
   "cell_type": "markdown",
   "metadata": {},
   "source": [
    "## Project onto top 2 principal components\n",
    "#### To visualize"
   ]
  },
  {
   "cell_type": "code",
   "execution_count": 583,
   "metadata": {
    "collapsed": false,
    "scrolled": false
   },
   "outputs": [
    {
     "data": {
      "image/png": "[encoded data removed]",
      "text/plain": [
       "<matplotlib.figure.Figure at 0x7f9c5be54d10>"
      ]
     },
     "metadata": {},
     "output_type": "display_data"
    },
    {
     "name": "stdout",
     "output_type": "stream",
     "text": [
      "Justices sorted by label type (based on political inclination)\n",
      "COL SHAPE\n",
      "(76856,)\n",
      "0 len = 3286\n",
      "1 len = 1136\n",
      "2 len = 1901\n",
      "3 len = 3985\n",
      "4 len = 385\n",
      "5 len = 884\n",
      "6 len = 385\n",
      "7 len = 1373\n",
      "8 len = 797\n",
      "9 len = 2278\n",
      "10 len = 704\n",
      "11 len = 2204\n",
      "12 len = 2350\n",
      "13 len = 5324\n",
      "14 len = 690\n",
      "15 len = 3589\n",
      "16 len = 4943\n",
      "17 len = 475\n",
      "18 len = 581\n",
      "19 len = 3879\n",
      "20 len = 2807\n",
      "21 len = 3768\n",
      "22 len = 2650\n",
      "23 len = 4529\n",
      "24 len = 4260\n",
      "25 len = 2910\n",
      "26 len = 2767\n",
      "27 len = 2581\n",
      "28 len = 1748\n",
      "29 len = 2032\n",
      "30 len = 1795\n",
      "31 len = 1697\n",
      "32 len = 729\n",
      "33 len = 703\n",
      "34 len = 411\n",
      "35 len = 320\n",
      "[0 1 2 3]\n",
      "(76856, 28)\n",
      "(153712, 29)\n",
      "[  0.   1.   2. ...,  nan  nan  nan]\n"
     ]
    },
    {
     "ename": "ValueError",
     "evalue": "Input contains NaN, infinity or a value too large for dtype('float64').",
     "output_type": "error",
     "traceback": [
      "\u001b[0;31m---------------------------------------------------------------------------\u001b[0m",
      "\u001b[0;31mValueError\u001b[0m                                Traceback (most recent call last)",
      "\u001b[0;32m<ipython-input-583-75eb3c849ebc>\u001b[0m in \u001b[0;36m<module>\u001b[0;34m()\u001b[0m\n\u001b[1;32m     28\u001b[0m     \u001b[0;32mfor\u001b[0m \u001b[0mj\u001b[0m \u001b[0;32min\u001b[0m \u001b[0mval\u001b[0m\u001b[0;34m:\u001b[0m\u001b[0;34m\u001b[0m\u001b[0m\n\u001b[1;32m     29\u001b[0m         \u001b[0mbias\u001b[0m\u001b[0;34m[\u001b[0m\u001b[0mj\u001b[0m\u001b[0;34m]\u001b[0m \u001b[0;34m=\u001b[0m \u001b[0mkey\u001b[0m\u001b[0;34m\u001b[0m\u001b[0m\n\u001b[0;32m---> 30\u001b[0;31m \u001b[0mtrainX_Cat\u001b[0m\u001b[0;34m.\u001b[0m\u001b[0madd_feature\u001b[0m\u001b[0;34m(\u001b[0m\u001b[0;34m\"bias\"\u001b[0m\u001b[0;34m,\u001b[0m \u001b[0mbias\u001b[0m\u001b[0;34m)\u001b[0m\u001b[0;34m\u001b[0m\u001b[0m\n\u001b[0m",
      "\u001b[0;32m<ipython-input-581-27de4eaefb7a>\u001b[0m in \u001b[0;36madd_feature\u001b[0;34m(self, name, d, categorical)\u001b[0m\n\u001b[1;32m    127\u001b[0m             \u001b[0;32mprint\u001b[0m \u001b[0mself\u001b[0m\u001b[0;34m.\u001b[0m\u001b[0mcat\u001b[0m\u001b[0;34m.\u001b[0m\u001b[0mshape\u001b[0m\u001b[0;34m\u001b[0m\u001b[0m\n\u001b[1;32m    128\u001b[0m             \u001b[0;32mprint\u001b[0m \u001b[0mnp\u001b[0m\u001b[0;34m.\u001b[0m\u001b[0munique\u001b[0m\u001b[0;34m(\u001b[0m\u001b[0mself\u001b[0m\u001b[0;34m.\u001b[0m\u001b[0mcat\u001b[0m\u001b[0;34m.\u001b[0m\u001b[0mvalues\u001b[0m\u001b[0;34m)\u001b[0m\u001b[0;34m\u001b[0m\u001b[0m\n\u001b[0;32m--> 129\u001b[0;31m             \u001b[0mself\u001b[0m\u001b[0;34m.\u001b[0m\u001b[0mOHE\u001b[0m\u001b[0;34m(\u001b[0m\u001b[0;34m)\u001b[0m \u001b[0;31m# Must re-OHE (Not too expensive in general)\u001b[0m\u001b[0;34m\u001b[0m\u001b[0m\n\u001b[0m\u001b[1;32m    130\u001b[0m \u001b[0;34m\u001b[0m\u001b[0m\n\u001b[1;32m    131\u001b[0m \u001b[0;32mdef\u001b[0m \u001b[0mindex_outcome\u001b[0m\u001b[0;34m(\u001b[0m\u001b[0marr\u001b[0m\u001b[0;34m,\u001b[0m \u001b[0mcol\u001b[0m\u001b[0;34m,\u001b[0m \u001b[0mcolumns\u001b[0m\u001b[0;34m)\u001b[0m\u001b[0;34m:\u001b[0m\u001b[0;34m\u001b[0m\u001b[0m\n",
      "\u001b[0;32m<ipython-input-581-27de4eaefb7a>\u001b[0m in \u001b[0;36mOHE\u001b[0;34m(self)\u001b[0m\n\u001b[1;32m     57\u001b[0m     \u001b[0;32mdef\u001b[0m \u001b[0mOHE\u001b[0m\u001b[0;34m(\u001b[0m\u001b[0mself\u001b[0m\u001b[0;34m)\u001b[0m\u001b[0;34m:\u001b[0m\u001b[0;34m\u001b[0m\u001b[0m\n\u001b[1;32m     58\u001b[0m         \u001b[0mself\u001b[0m\u001b[0;34m.\u001b[0m\u001b[0mohe\u001b[0m \u001b[0;34m=\u001b[0m \u001b[0mOneHotEncoder\u001b[0m\u001b[0;34m(\u001b[0m\u001b[0;34m)\u001b[0m\u001b[0;34m\u001b[0m\u001b[0m\n\u001b[0;32m---> 59\u001b[0;31m         \u001b[0mself\u001b[0m\u001b[0;34m.\u001b[0m\u001b[0mohe\u001b[0m\u001b[0;34m.\u001b[0m\u001b[0mfit\u001b[0m\u001b[0;34m(\u001b[0m\u001b[0mself\u001b[0m\u001b[0;34m.\u001b[0m\u001b[0mcat\u001b[0m\u001b[0;34m)\u001b[0m\u001b[0;34m\u001b[0m\u001b[0m\n\u001b[0m\u001b[1;32m     60\u001b[0m         \u001b[0mself\u001b[0m\u001b[0;34m.\u001b[0m\u001b[0mcat_ohe\u001b[0m \u001b[0;34m=\u001b[0m  \u001b[0mself\u001b[0m\u001b[0;34m.\u001b[0m\u001b[0mohe\u001b[0m\u001b[0;34m.\u001b[0m\u001b[0mtransform\u001b[0m\u001b[0;34m(\u001b[0m\u001b[0mself\u001b[0m\u001b[0;34m.\u001b[0m\u001b[0mcat\u001b[0m\u001b[0;34m)\u001b[0m\u001b[0;34m\u001b[0m\u001b[0m\n\u001b[1;32m     61\u001b[0m \u001b[0;34m\u001b[0m\u001b[0m\n",
      "\u001b[0;32m/home/whinthorn/anaconda2/lib/python2.7/site-packages/sklearn/preprocessing/data.pyc\u001b[0m in \u001b[0;36mfit\u001b[0;34m(self, X, y)\u001b[0m\n\u001b[1;32m   1842\u001b[0m         \u001b[0mself\u001b[0m\u001b[0;34m\u001b[0m\u001b[0m\n\u001b[1;32m   1843\u001b[0m         \"\"\"\n\u001b[0;32m-> 1844\u001b[0;31m         \u001b[0mself\u001b[0m\u001b[0;34m.\u001b[0m\u001b[0mfit_transform\u001b[0m\u001b[0;34m(\u001b[0m\u001b[0mX\u001b[0m\u001b[0;34m)\u001b[0m\u001b[0;34m\u001b[0m\u001b[0m\n\u001b[0m\u001b[1;32m   1845\u001b[0m         \u001b[0;32mreturn\u001b[0m \u001b[0mself\u001b[0m\u001b[0;34m\u001b[0m\u001b[0m\n\u001b[1;32m   1846\u001b[0m \u001b[0;34m\u001b[0m\u001b[0m\n",
      "\u001b[0;32m/home/whinthorn/anaconda2/lib/python2.7/site-packages/sklearn/preprocessing/data.pyc\u001b[0m in \u001b[0;36mfit_transform\u001b[0;34m(self, X, y)\u001b[0m\n\u001b[1;32m   1900\u001b[0m         \"\"\"\n\u001b[1;32m   1901\u001b[0m         return _transform_selected(X, self._fit_transform,\n\u001b[0;32m-> 1902\u001b[0;31m                                    self.categorical_features, copy=True)\n\u001b[0m\u001b[1;32m   1903\u001b[0m \u001b[0;34m\u001b[0m\u001b[0m\n\u001b[1;32m   1904\u001b[0m     \u001b[0;32mdef\u001b[0m \u001b[0m_transform\u001b[0m\u001b[0;34m(\u001b[0m\u001b[0mself\u001b[0m\u001b[0;34m,\u001b[0m \u001b[0mX\u001b[0m\u001b[0;34m)\u001b[0m\u001b[0;34m:\u001b[0m\u001b[0;34m\u001b[0m\u001b[0m\n",
      "\u001b[0;32m/home/whinthorn/anaconda2/lib/python2.7/site-packages/sklearn/preprocessing/data.pyc\u001b[0m in \u001b[0;36m_transform_selected\u001b[0;34m(X, transform, selected, copy)\u001b[0m\n\u001b[1;32m   1695\u001b[0m     \u001b[0mX\u001b[0m \u001b[0;34m:\u001b[0m \u001b[0marray\u001b[0m \u001b[0;32mor\u001b[0m \u001b[0msparse\u001b[0m \u001b[0mmatrix\u001b[0m\u001b[0;34m,\u001b[0m \u001b[0mshape\u001b[0m\u001b[0;34m=\u001b[0m\u001b[0;34m(\u001b[0m\u001b[0mn_samples\u001b[0m\u001b[0;34m,\u001b[0m \u001b[0mn_features_new\u001b[0m\u001b[0;34m)\u001b[0m\u001b[0;34m\u001b[0m\u001b[0m\n\u001b[1;32m   1696\u001b[0m     \"\"\"\n\u001b[0;32m-> 1697\u001b[0;31m     \u001b[0mX\u001b[0m \u001b[0;34m=\u001b[0m \u001b[0mcheck_array\u001b[0m\u001b[0;34m(\u001b[0m\u001b[0mX\u001b[0m\u001b[0;34m,\u001b[0m \u001b[0maccept_sparse\u001b[0m\u001b[0;34m=\u001b[0m\u001b[0;34m'csc'\u001b[0m\u001b[0;34m,\u001b[0m \u001b[0mcopy\u001b[0m\u001b[0;34m=\u001b[0m\u001b[0mcopy\u001b[0m\u001b[0;34m,\u001b[0m \u001b[0mdtype\u001b[0m\u001b[0;34m=\u001b[0m\u001b[0mFLOAT_DTYPES\u001b[0m\u001b[0;34m)\u001b[0m\u001b[0;34m\u001b[0m\u001b[0m\n\u001b[0m\u001b[1;32m   1698\u001b[0m \u001b[0;34m\u001b[0m\u001b[0m\n\u001b[1;32m   1699\u001b[0m     \u001b[0;32mif\u001b[0m \u001b[0misinstance\u001b[0m\u001b[0;34m(\u001b[0m\u001b[0mselected\u001b[0m\u001b[0;34m,\u001b[0m \u001b[0msix\u001b[0m\u001b[0;34m.\u001b[0m\u001b[0mstring_types\u001b[0m\u001b[0;34m)\u001b[0m \u001b[0;32mand\u001b[0m \u001b[0mselected\u001b[0m \u001b[0;34m==\u001b[0m \u001b[0;34m\"all\"\u001b[0m\u001b[0;34m:\u001b[0m\u001b[0;34m\u001b[0m\u001b[0m\n",
      "\u001b[0;32m/home/whinthorn/anaconda2/lib/python2.7/site-packages/sklearn/utils/validation.pyc\u001b[0m in \u001b[0;36mcheck_array\u001b[0;34m(array, accept_sparse, dtype, order, copy, force_all_finite, ensure_2d, allow_nd, ensure_min_samples, ensure_min_features, warn_on_dtype, estimator)\u001b[0m\n\u001b[1;32m    405\u001b[0m                              % (array.ndim, estimator_name))\n\u001b[1;32m    406\u001b[0m         \u001b[0;32mif\u001b[0m \u001b[0mforce_all_finite\u001b[0m\u001b[0;34m:\u001b[0m\u001b[0;34m\u001b[0m\u001b[0m\n\u001b[0;32m--> 407\u001b[0;31m             \u001b[0m_assert_all_finite\u001b[0m\u001b[0;34m(\u001b[0m\u001b[0marray\u001b[0m\u001b[0;34m)\u001b[0m\u001b[0;34m\u001b[0m\u001b[0m\n\u001b[0m\u001b[1;32m    408\u001b[0m \u001b[0;34m\u001b[0m\u001b[0m\n\u001b[1;32m    409\u001b[0m     \u001b[0mshape_repr\u001b[0m \u001b[0;34m=\u001b[0m \u001b[0m_shape_repr\u001b[0m\u001b[0;34m(\u001b[0m\u001b[0marray\u001b[0m\u001b[0;34m.\u001b[0m\u001b[0mshape\u001b[0m\u001b[0;34m)\u001b[0m\u001b[0;34m\u001b[0m\u001b[0m\n",
      "\u001b[0;32m/home/whinthorn/anaconda2/lib/python2.7/site-packages/sklearn/utils/validation.pyc\u001b[0m in \u001b[0;36m_assert_all_finite\u001b[0;34m(X)\u001b[0m\n\u001b[1;32m     56\u001b[0m             and not np.isfinite(X).all()):\n\u001b[1;32m     57\u001b[0m         raise ValueError(\"Input contains NaN, infinity\"\n\u001b[0;32m---> 58\u001b[0;31m                          \" or a value too large for %r.\" % X.dtype)\n\u001b[0m\u001b[1;32m     59\u001b[0m \u001b[0;34m\u001b[0m\u001b[0m\n\u001b[1;32m     60\u001b[0m \u001b[0;34m\u001b[0m\u001b[0m\n",
      "\u001b[0;31mValueError\u001b[0m: Input contains NaN, infinity or a value too large for dtype('float64')."
     ]
    }
   ],
   "source": [
    "from sklearn.decomposition import PCA\n",
    "display = False\n",
    "pca = PCA()\n",
    "pca.fit(justices)\n",
    "justices_pca = pca.transform(justices)\n",
    "plt.scatter(justices_pca[:,0], justices_pca[:, 1], c=colors)\n",
    "plt.xlabel('First Principal Component')\n",
    "plt.ylabel('Second Principal Component')\n",
    "plt.title('Justices Clustered by Political Bent over 14 issue areas (+1 dim other)')\n",
    "vals = plt.show()\n",
    "#Print out labels\n",
    "vals = sorted(zip(names, justices_pca, labels), key= lambda x: x[2])\n",
    "print \"Justices sorted by label type (based on political inclination)\"\n",
    "#create a label: justice dictionary \n",
    "groups = {}\n",
    "for name, val, l in vals:\n",
    "    if l in groups:\n",
    "        groups[l].append(name_to_id[name])\n",
    "    else:\n",
    "        groups[l] = []\n",
    "        groups[l].append(name_to_id[name])\n",
    "    if display:\n",
    "        print \"Justice {0: <12}:\\t{1: 0.2f},\\t{2:.2f}\\tLabel {3}\".format(name, val[0], val[1], l)\n",
    "\n",
    "# Create a justice: label dictionary\n",
    "bias = {}\n",
    "for key, val in groups.items():\n",
    "    for j in val:\n",
    "        bias[j] = key    \n",
    "trainX_Cat.add_feature(\"bias\", bias)"
   ]
  },
  {
   "cell_type": "code",
   "execution_count": 563,
   "metadata": {
    "collapsed": false
   },
   "outputs": [
    {
     "data": {
      "text/plain": [
       "array([[   0,    0,    0, ...,  173,  519,    1],\n",
       "       [   0,    0,    0, ...,  173,  519,    1],\n",
       "       [   0,    0,    0, ...,  173,  519,    3],\n",
       "       ..., \n",
       "       [8576, 8576, 8576, ...,  158,    0,    1],\n",
       "       [8576, 8576, 8576, ...,  158,    0,    3],\n",
       "       [8576, 8576, 8576, ...,  158,    0,    1]])"
      ]
     },
     "execution_count": 563,
     "metadata": {},
     "output_type": "execute_result"
    }
   ],
   "source": [
    "trainX_Cat.arr"
   ]
  },
  {
   "cell_type": "code",
   "execution_count": 515,
   "metadata": {
    "collapsed": false
   },
   "outputs": [],
   "source": []
  },
  {
   "cell_type": "code",
   "execution_count": null,
   "metadata": {
    "collapsed": true
   },
   "outputs": [],
   "source": []
  },
  {
   "cell_type": "raw",
   "metadata": {},
   "source": [
    "vals = sorted(zip(names, justices_pca, labels), key= lambda x: x[2])\n",
    "for name, val, l in vals:\n",
    "    print \"Justice {0}:\\t{1},\\t{2}\\tLabel {3}\".format(name, val[0], val[1], l)"
   ]
  },
  {
   "cell_type": "code",
   "execution_count": null,
   "metadata": {
    "collapsed": true
   },
   "outputs": [],
   "source": []
  },
  {
   "cell_type": "markdown",
   "metadata": {},
   "source": [
    "## Working Outline\n",
    "\n",
    "* In progress...\n",
    "\n",
    "The lack of data would indicate that an rnn may not be a particularly appropriate model for this task; however it would be fun to try in order to see how the sequence of issues or the long-term trends of a justice come into play for future decisions. \n",
    "\n",
    "### Workflow:\n",
    "\n",
    "#### Data Preparation:\n",
    "\n",
    "Impute values -> maybe categorize nan's as -1, etc. (There are no negative values here)\n",
    "\n",
    "OHE categorical variables\n",
    "\n",
    "Drop the justiceName column -> all information is in 'justice'\n",
    "\n",
    "\n",
    "#### RNN"
   ]
  },
  {
   "cell_type": "markdown",
   "metadata": {},
   "source": [
    "## Generate Features"
   ]
  },
  {
   "cell_type": "markdown",
   "metadata": {},
   "source": [
    "Fill in nas with -1"
   ]
  },
  {
   "cell_type": "code",
   "execution_count": null,
   "metadata": {
    "collapsed": false,
    "scrolled": true
   },
   "outputs": [],
   "source": [
    "for c in trainX.columns:\n",
    "    print trainX[c].mode()\n",
    "    print \"Number NaN: {0}\".format(np.sum(trainX[c].isnull()))"
   ]
  },
  {
   "cell_type": "code",
   "execution_count": null,
   "metadata": {
    "collapsed": false
   },
   "outputs": [],
   "source": [
    "trainX['authorityDecision2'][0]"
   ]
  },
  {
   "cell_type": "code",
   "execution_count": null,
   "metadata": {
    "collapsed": true
   },
   "outputs": [],
   "source": []
  },
  {
   "cell_type": "code",
   "execution_count": null,
   "metadata": {
    "collapsed": true
   },
   "outputs": [],
   "source": []
  }
 ],
 "metadata": {
  "kernelspec": {
   "display_name": "Python 2",
   "language": "python",
   "name": "python2"
  },
  "language_info": {
   "codemirror_mode": {
    "name": "ipython",
    "version": 2
   },
   "file_extension": ".py",
   "mimetype": "text/x-python",
   "name": "python",
   "nbconvert_exporter": "python",
   "pygments_lexer": "ipython2",
   "version": "2.7.13"
  }
 },
 "nbformat": 4,
 "nbformat_minor": 2
}
