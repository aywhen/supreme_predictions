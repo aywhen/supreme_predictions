{
 "cells": [
  {
   "cell_type": "code",
   "execution_count": 80,
   "metadata": {
    "collapsed": true
   },
   "outputs": [],
   "source": [
    "import numpy as np\n",
    "import pandas as pd\n",
    "import math\n",
    "from datetime import datetime\n",
    "import matplotlib.pyplot as plt"
   ]
  },
  {
   "cell_type": "markdown",
   "metadata": {},
   "source": [
    "### Load Justice-centered data into pandas df"
   ]
  },
  {
   "cell_type": "code",
   "execution_count": 347,
   "metadata": {
    "collapsed": true
   },
   "outputs": [],
   "source": [
    "trainX = pd.read_csv('../data/trainX_justice.csv')\n",
    "trainY = pd.read_csv('../data/trainY_justice.csv')\n",
    "testX = pd.read_csv('../data/testX_justice.csv')\n",
    "testY = pd.read_csv('../data/testY_justice.csv')"
   ]
  },
  {
   "cell_type": "markdown",
   "metadata": {},
   "source": [
    "### Variables (from preprocessing)"
   ]
  },
  {
   "cell_type": "code",
   "execution_count": 348,
   "metadata": {
    "collapsed": true
   },
   "outputs": [],
   "source": [
    "# column names by category\n",
    "id_variables_to_drop = [\n",
    "    u'justiceName', #Name and unique ID\n",
    "    ]\n",
    "id_variables_to_keep = [\n",
    "    u'justice',  #Name and unique ID\n",
    "    u'caseId', u'docketId', u'caseIssuesId', u'voteId',\n",
    "    u'usCite', u'sctCite', u'ledCite', u'lexisCite',\n",
    "    u'docket']\n",
    "    \n",
    "bg_variables = [\n",
    "    u'caseName', u'petitioner', u'petitionerState',\n",
    "    u'respondent', u'respondentState', u'jurisdiction',\n",
    "    u'adminAction', u'adminActionState', u'threeJudgeFdc',\n",
    "    u'caseOrigin', u'caseOriginState', u'caseSource',\n",
    "    u'caseSourceState', u'lcDisagreement', u'certReason',\n",
    "    u'lcDisposition', u'lcDispositionDirection',\n",
    "]\n",
    "\n",
    "chrono_include = [u'naturalCourt', u'chief']\n",
    "chrono_donotinclude = [u'dateDecision', u'decisionType', u'term',\n",
    "                       u'dateArgument', u'dateRearg']\n",
    "chrono_variables = chrono_include + chrono_donotinclude\n",
    "\n",
    "substantive_variables = [\n",
    "    u'issue', u'issueArea', u'decisionDirection',\n",
    "    u'decisionDirectionDissent', u'authorityDecision1',\n",
    "    u'authorityDecision2', u'lawType', u'lawSupp', u'lawMinor']\n",
    "\n",
    "outcome_variables = [\n",
    "    u'declarationUncon', u'caseDisposition',\n",
    "    u'caseDispositionUnusual', u'partyWinning', u'precedentAlteration',  \n",
    "    u'firstAgreement', u'secondAgreement']\n",
    "\n",
    "voting_variables = [u'voteUnclear', u'majOpinWriter', u'majOpinAssigner',\n",
    "                    u'splitVote', u'majVotes', u'minVotes',  u'vote', u'opinion',\n",
    "                    u'direction', u'majority']\n"
   ]
  },
  {
   "cell_type": "markdown",
   "metadata": {},
   "source": [
    "## Decide on outcome vector"
   ]
  },
  {
   "cell_type": "markdown",
   "metadata": {},
   "source": [
    "## One-hot encode select categorical variables\n",
    "#### + impute nulls"
   ]
  },
  {
   "cell_type": "code",
   "execution_count": 349,
   "metadata": {
    "collapsed": false
   },
   "outputs": [],
   "source": [
    "from sklearn.preprocessing import OneHotEncoder, LabelEncoder\n",
    "from scipy.sparse import csr_matrix, hstack\n",
    "\n",
    "class Categorical(object):\n",
    "    def __init__(self, df, outcomes, ohe_threshold = 1000):\n",
    "        self.names = df['justiceName']\n",
    "        #Drop name vector (redundant)\n",
    "        self.arr = df[id_variables_to_keep + bg_variables + chrono_include + substantive_variables].copy()\n",
    "        self.arr = self.arr.fillna(-1) # Impute values\n",
    "        self.outcomes = outcomes.copy()\n",
    "        self.outcomes = self.outcomes.fillna(-1) #Impute values\n",
    "        # Select the categorical features to OHE\n",
    "        ohe_vars = []\n",
    "        other_vars = []\n",
    "        for c in self.arr.columns:\n",
    "            u =  len(self.arr[c].unique())\n",
    "            if u < ohe_threshold:\n",
    "#                 prZint \"{0}: {1} unique\".format(c, len(self.arr[c].unique()))\n",
    "                ohe_vars.append(c)\n",
    "            else:\n",
    "                other_vars.append(c)\n",
    "        \n",
    "        self.n_samples, self.n_features = self.arr.shape\n",
    "        self.n_cat_features = len(ohe_vars)\n",
    "        self.ohe_vars = ohe_vars\n",
    "        self.other_vars = other_vars\n",
    "        self.arr = pd.concat([self.arr[other_vars], self.arr[ohe_vars]], axis=1)\n",
    "        self.columns = other_vars + ohe_vars\n",
    "        #Label Encode select categorical variables\n",
    "        self.LE()\n",
    "        self.other = self.arr[other_vars].copy() #ID and other features\n",
    "        self.cat = self.arr[ohe_vars].copy() #Categorical features\n",
    "        self.cat_ohe = self.cat.copy() #OHE categorical features\n",
    "        self.n_justices = len(self.cat['justice'].unique())\n",
    "        #Label Encode the outcome variables\n",
    "        self.LE_Outcomes()\n",
    "        #OHE the categorical data\n",
    "        self.OHE()\n",
    "        \n",
    "        \n",
    "    def LE(self):\n",
    "        '''Label Encode ALL variables (to give reasonable feautures) '''  \n",
    "        le = {}  #keep le global so we may inverse_transform if necessary\n",
    "        for c in self.columns: #self.ohe_vars: #text_cols:\n",
    "            le[c] = LabelEncoder()\n",
    "            self.arr.loc[:,c] = le[c].fit_transform(self.arr[c])\n",
    "        self.le = le # label encoder (useful for reverse transforming also)\n",
    "        \n",
    "    def LE_Outcomes(self):\n",
    "        le = {}\n",
    "        for c in self.outcomes.columns:\n",
    "            le[c] = LabelEncoder()\n",
    "            self.outcomes.loc[:,c] = le[c].fit_transform(self.outcomes[c])\n",
    "                \n",
    "        self.le_out = le\n",
    "        \n",
    "    def OHE(self):\n",
    "        self.ohe = OneHotEncoder()\n",
    "        self.ohe.fit(self.cat)\n",
    "        self.cat_ohe =  self.ohe.transform(self.cat) \n",
    "    \n",
    "    \n",
    "    def orig_cat(self): # Not important since I cache the values, but keep for possible future functions\n",
    "        '''Returns the original array of the OHE encoded csr array\n",
    "            (requires the original one-hot encoder fit to the dataset) '''\n",
    "        return np.array([self.ohe.active_features_[col] for col in \n",
    "                            self.cat.sorted_indices().indices]).reshape(self.n_samples, self.n_cat_features) \\\n",
    "                                - self.ohe.feature_indices_[:-1]\n",
    "        \n",
    "    def getValue(self, col):\n",
    "        '''Return the original value for the label-encoded variable'''\n",
    "        if col not in self.columns:#self.ohe_vars:\n",
    "            return None\n",
    "        le = self.le[self.columns.index(col)]\n",
    "        return le.inverse_transform(self.cat[col])\n",
    "\n",
    "    def isolate_justice(self, ID, deep=False, ind=True):\n",
    "        '''Return sparse array for data for a single justice '''\n",
    "        \n",
    "        #Check if ID is a legal label-encodded justice id\n",
    "        if ID < 0 or ID >= self.n_justices:\n",
    "            print \"Error: Not a legal justice ID\"\n",
    "            return None\n",
    "        \n",
    "        if ind:\n",
    "            return self.cat.loc[self.cat['justice'] == ID].index\n",
    "        elif deep:\n",
    "            return self.cat.loc[self.cat['justice'] == ID].copy()\n",
    "        else:\n",
    "            return self.cat.loc[self.cat['justice'] == ID]\n",
    "        \n",
    "    def merge_Xmatrices(self, rows):\n",
    "        return hstack((csr_matrix(self.other.values[rows,:]), self.cat_ohe[rows,:]))\n",
    "    \n",
    "#     def merge_Ymatrices(self, rows):\n",
    "#         return hstack((csr_matrix(self.other.values[rows,:]), self.cat_ohe[rows,:]))\n",
    "    \n",
    "    def justice_X(self, ID):\n",
    "        return self.merge_Xmatrices(rows=self.isolate_justice(ID))\n",
    "    \n",
    "    def justice_Y(self, ID):\n",
    "        return self.outcomes.values[self.isolate_justice(ID), :]\n",
    "\n",
    "    \n",
    "def index_outcome(arr, col, columns):\n",
    "    return arr[:, list(columns).index(col)]\n",
    "        "
   ]
  },
  {
   "cell_type": "markdown",
   "metadata": {},
   "source": [
    "## Create a categorical object"
   ]
  },
  {
   "cell_type": "code",
   "execution_count": 350,
   "metadata": {
    "collapsed": false,
    "scrolled": true
   },
   "outputs": [],
   "source": [
    "trainX_Cat = Categorical(df = trainX, outcomes = trainY)"
   ]
  },
  {
   "cell_type": "markdown",
   "metadata": {},
   "source": [
    "## Cluster justices into 2 groups based on likelihood to side with majority"
   ]
  },
  {
   "cell_type": "code",
   "execution_count": 369,
   "metadata": {
    "collapsed": true
   },
   "outputs": [],
   "source": [
    "from sklearn.cluster import KMeans"
   ]
  },
  {
   "cell_type": "code",
   "execution_count": 351,
   "metadata": {
    "collapsed": false
   },
   "outputs": [
    {
     "data": {
      "image/png": "[encoded data removed]",
      "text/plain": [
       "<matplotlib.figure.Figure at 0x7f9c40cf2690>"
      ]
     },
     "metadata": {},
     "output_type": "display_data"
    },
    {
     "name": "stdout",
     "output_type": "stream",
     "text": [
      "\n",
      "Green (relatively more frequently side with majority):\n",
      "EKagan WHRehnqu WEBurger WBRutled TMarshal TCClark SSotomay SMinton SGBreyer SFReed AJGoldbe RBGinsbu RHJackso DHSouter PStewart JPSteven JGRobert HLBlack FMVinson FFrankfu EWarren SAAlito JHarlan2 \n",
      "\n",
      "Blue (relatively more likely to vote minority):\n",
      "AFortas SDOConno LFPowell WJBrenna HHBurton HABlackm FMurphy WODougla CThomas CEWhitta BRWhite AScalia AMKenned\n"
     ]
    }
   ],
   "source": [
    "def maj_min_norm(cat, justiceID):\n",
    "    '''Return 2D vector representation where dim_0 is the percent time \n",
    "        voting with majority and dim_1 is percent voting with minority'''\n",
    "    j = cat.justice_Y(justiceID)\n",
    "    maj_min = index_outcome(j,'majority', trainY.columns)\n",
    "#     print np.unique(maj_min)\n",
    "    n = maj_min.shape[0]\n",
    "    total = np.sum(maj_min == 2)\n",
    "    return [float(total)/n, float(n-total)/n]\n",
    "    \n",
    "\n",
    "justices = np.array([maj_min_norm(trainX_Cat, i) for i in np.unique(trainX_Cat.arr['justice'].values)])\n",
    "\n",
    "kmeans = KMeans(n_clusters=2, random_state=0).fit(justices)\n",
    "colors = np.where(kmeans.labels_ == 1, 'b', 'g')\n",
    "# Group by \n",
    "names =  np.unique(trainX_id['justiceName'])\n",
    "groups = np.array([[n, 1] if c else [n, 0] for (c, n) in zip(kmeans.labels_ == 1,names)])\n",
    "groups =  groups[groups[:, 1].argsort()]\n",
    "\n",
    "n_0 = np.sum(groups[:, 1] == '0')\n",
    "n_1 = np.sum(groups[:, 1] == '1')\n",
    "minor = np.empty((n_0, 2), dtype=('string', float))\n",
    "major = np.empty((n_1, 2), dtype=('string', float))\n",
    "\n",
    "j =  k = 0\n",
    "for i in range(groups.shape[0]):\n",
    "    if groups[i, 1] == '0':\n",
    "        minor[j] = groups[i]\n",
    "        j = j + 1\n",
    "    elif groups[i, 1] == '1':\n",
    "        major[k] = groups[i]\n",
    "        k = k + 1\n",
    "    \n",
    "\n",
    "plt.scatter(justices[:, 0], justices[:, 1], c=colors)\n",
    "plt.title('Justices by agreement')\n",
    "plt.xlabel('Percent Time Agree with Majority')\n",
    "plt.ylabel('Percent Time Agree with Minority')\n",
    "plt.show()\n",
    "\n",
    "print \"\\nGreen (relatively more frequently side with majority):\"\n",
    "for name, label in zip(major[:,0], major[:,1]):\n",
    "    print name,\n",
    "print \"\\n\\nBlue (relatively more likely to vote minority):\"\n",
    "for name, label in zip(minor[:,0], minor[:,1]):\n",
    "    print name,"
   ]
  },
  {
   "cell_type": "markdown",
   "metadata": {},
   "source": [
    "## Now what\n",
    "\n",
    "Cluster based on issues?"
   ]
  },
  {
   "cell_type": "code",
   "execution_count": null,
   "metadata": {
    "collapsed": true
   },
   "outputs": [],
   "source": []
  },
  {
   "cell_type": "code",
   "execution_count": 366,
   "metadata": {
    "collapsed": false
   },
   "outputs": [],
   "source": [
    "# Create a dictionary to easily get name\n",
    "name_to_id = { name: l for (name, l) in zip(trainX_Cat.names.unique(), trainX_Cat.arr['justice'].unique())}\n",
    "id_to_name = { l: name for (name, l) in zip(trainX_Cat.names.unique(), trainX_Cat.arr['justice'].unique())}\n",
    "def ideology_vector(cat, justiceID, vecSize):\n",
    "    j_y = cat.justice_Y(justiceID)\n",
    "    j_ind = cat.isolate_justice(justiceID)\n",
    "    bias = index_outcome(j_y, 'direction', trainY.columns) # normalized lean (conservative | liberal) in this case\n",
    "    issue = np.array((cat.cat['issueArea'].values)[j_ind]) # IssueArea for the case\n",
    "    bias[np.where(bias == 2)] = -1 # Recode s.t. -1 ~ liberal, 0, nan, 1 ~ conservative\n",
    "    v = np.zeros(vecSize, dtype=float)\n",
    "    t = np.zeros(vecSize, dtype=float)\n",
    "    # Sum the total values\n",
    "    for i in range(bias.shape[0]):\n",
    "        v[issue[i]] = v[issue[i]] + bias[i]\n",
    "        t[issue[i]] = t[issue[i]] + 1\n",
    "\n",
    "    for i in range(vecSize):\n",
    "        if t[i] > 0:\n",
    "            v[i] = v[i] / t[i] # normalize by totals for each subject area\n",
    "    return v # v is then an \"ideology vector\" we may use to cluster justices\n",
    "\n",
    "\n",
    "n_areas = trainX_Cat.le['issueArea'].classes_.shape[0] #Total general issue areas\n",
    "j_ids = np.unique(trainX_Cat.arr['justice'].values)\n",
    "# names = trainX_Cat.le['justiceName'].inverse_tranform(j_ids)\n",
    "justices = np.array([ideology_vector(trainX_Cat, i, n_areas) for i in j_ids])  \n",
    "j_with_names = {id_to_name[l]: vec for (l, vec) in zip(j_ids, justices)}\n",
    "    "
   ]
  },
  {
   "cell_type": "code",
   "execution_count": 387,
   "metadata": {
    "collapsed": false
   },
   "outputs": [],
   "source": [
    "km = KMeans(n_clusters=4, random_state=0).fit(justices)\n",
    "# colors = np.where(kmeans.labels_ == 1, 'b', 'g')\n",
    "labels = km.labels_\n",
    "n = labels.shape\n",
    "colors = np.empty(n, dtype=str)\n",
    "for i in range(n[0]):\n",
    "    if labels[i] == 0:\n",
    "        colors[i] = 'g'\n",
    "    elif labels[i] == 1:\n",
    "        colors[i] = 'b'\n",
    "    elif labels[i] == 2:\n",
    "        colors[i] = 'r'\n",
    "    else:\n",
    "        colors[i] = 'm'\n"
   ]
  },
  {
   "cell_type": "markdown",
   "metadata": {},
   "source": [
    "## Project onto top 2 principal components"
   ]
  },
  {
   "cell_type": "code",
   "execution_count": 391,
   "metadata": {
    "collapsed": false
   },
   "outputs": [
    {
     "data": {
      "image/png": "[encoded data removed]",
      "text/plain": [
       "<matplotlib.figure.Figure at 0x7f9c5bbffc50>"
      ]
     },
     "metadata": {},
     "output_type": "display_data"
    }
   ],
   "source": [
    "from sklearn.decomposition import PCA\n",
    "\n",
    "pca = PCA()\n",
    "pca.fit(justices)\n",
    "\n",
    "justices_pca = pca.transform(justices)\n",
    "\n",
    "\n",
    "plt.scatter(justices_pca[:,0], justices_pca[:, 1], c=colors)\n",
    "plt.xlabel('First Principal Component')\n",
    "plt.ylabel('Second Principal Component')\n",
    "plt.title('Justices Clustered by Political Bent over 14 issue areas')\n",
    "plt.show()"
   ]
  },
  {
   "cell_type": "code",
   "execution_count": 342,
   "metadata": {
    "collapsed": false
   },
   "outputs": [
    {
     "name": "stdout",
     "output_type": "stream",
     "text": [
      "Justice 0: 1.08558086748, 0.389014718452\n",
      "Justice 1: -1.09234671578, 0.484776786002\n",
      "Justice 2: 0.217864108182, -0.596827043203\n",
      "Justice 3: 1.6373529285, 0.0647278427363\n",
      "Justice 4: 0.404327511853, 1.27457988359\n",
      "Justice 5: -0.326294426791, -0.655464122196\n",
      "Justice 6: 0.421683859925, 1.2350390119\n",
      "Justice 7: -0.845723097329, 0.248513564856\n",
      "Justice 8: -1.39439728309, 0.587935637609\n",
      "Justice 9: 0.0464088780901, -0.100920471061\n",
      "Justice 10: -1.05367827135, 0.513797867991\n",
      "Justice 11: 1.56984901728, -0.227787203064\n",
      "Justice 12: 0.0402921915457, -0.734601610318\n",
      "Justice 13: 1.23283044046, 0.0711443037437\n",
      "Justice 14: -0.759268504567, 0.342148748064\n",
      "Justice 15: 0.150113618155, -0.215062612144\n",
      "Justice 16: -0.497975541553, 0.350067607517\n",
      "Justice 17: 1.93597464713, -0.497430926911\n",
      "Justice 18: 1.24801669977, 0.16908645644\n",
      "Justice 19: 1.17706682795, 0.102677805358\n",
      "Justice 20: -1.11466378741, -0.123176332845\n",
      "Justice 21: 0.205070405688, -0.314908057285\n",
      "Justice 22: -0.658182070709, -0.188077204308\n",
      "Justice 23: -1.43322442731, -0.183549772234\n",
      "Justice 24: 0.634121012296, -0.157392437731\n",
      "Justice 25: -0.798769766594, -0.290152654788\n",
      "Justice 26: -1.11338406977, -0.319187869304\n",
      "Justice 27: -0.670506695682, -0.198331956936\n",
      "Justice 28: 0.454303266158, -0.161890020664\n",
      "Justice 29: -1.15048972774, -0.534834133068\n",
      "Justice 30: 0.637010415655, -0.12514581096\n",
      "Justice 31: 0.298019312396, 0.10140913386\n",
      "Justice 32: -0.63102161316, -0.156391146567\n",
      "Justice 33: -0.839784415453, -0.194696135635\n",
      "Justice 34: 0.491493601504, 0.221556810072\n",
      "Justice 35: 0.492330804276, -0.180648656965\n"
     ]
    }
   ],
   "source": [
    "for name, vals in zip(names, justices_pca):\n",
    "    print \"Justice {0}: {1}, {2}\".format(name, vals[0], vals[1])"
   ]
  },
  {
   "cell_type": "code",
   "execution_count": 314,
   "metadata": {
    "collapsed": false
   },
   "outputs": [
    {
     "data": {
      "text/plain": [
       "15"
      ]
     },
     "execution_count": 314,
     "metadata": {},
     "output_type": "execute_result"
    }
   ],
   "source": []
  },
  {
   "cell_type": "markdown",
   "metadata": {},
   "source": [
    "## Working Outline\n",
    "\n",
    "* In progress...\n",
    "\n",
    "The lack of data would indicate that an rnn may not be a particularly appropriate model for this task; however it would be fun to try in order to see how the sequence of issues or the long-term trends of a justice come into play for future decisions. \n",
    "\n",
    "### Workflow:\n",
    "\n",
    "#### Data Preparation:\n",
    "\n",
    "Impute values -> maybe categorize nan's as -1, etc. (There are no negative values here)\n",
    "\n",
    "OHE categorical variables\n",
    "\n",
    "Drop the justiceName column -> all information is in 'justice'\n",
    "\n",
    "\n",
    "#### RNN"
   ]
  },
  {
   "cell_type": "markdown",
   "metadata": {},
   "source": [
    "## Generate Features"
   ]
  },
  {
   "cell_type": "markdown",
   "metadata": {},
   "source": [
    "Fill in nas with -1"
   ]
  },
  {
   "cell_type": "code",
   "execution_count": null,
   "metadata": {
    "collapsed": false,
    "scrolled": true
   },
   "outputs": [],
   "source": [
    "for c in trainX.columns:\n",
    "    print trainX[c].mode()\n",
    "    print \"Number NaN: {0}\".format(np.sum(trainX[c].isnull()))"
   ]
  },
  {
   "cell_type": "code",
   "execution_count": null,
   "metadata": {
    "collapsed": false
   },
   "outputs": [],
   "source": [
    "trainX['authorityDecision2'][0]"
   ]
  },
  {
   "cell_type": "code",
   "execution_count": null,
   "metadata": {
    "collapsed": true
   },
   "outputs": [],
   "source": []
  },
  {
   "cell_type": "code",
   "execution_count": null,
   "metadata": {
    "collapsed": true
   },
   "outputs": [],
   "source": []
  }
 ],
 "metadata": {
  "kernelspec": {
   "display_name": "Python 2",
   "language": "python",
   "name": "python2"
  },
  "language_info": {
   "codemirror_mode": {
    "name": "ipython",
    "version": 2
   },
   "file_extension": ".py",
   "mimetype": "text/x-python",
   "name": "python",
   "nbconvert_exporter": "python",
   "pygments_lexer": "ipython2",
   "version": "2.7.13"
  }
 },
 "nbformat": 4,
 "nbformat_minor": 2
}
